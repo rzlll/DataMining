{
 "cells": [
  {
   "cell_type": "code",
   "execution_count": 1,
   "metadata": {},
   "outputs": [],
   "source": [
    "import os, sys\n",
    "import numpy as np\n",
    "import pandas as pd\n",
    "\n",
    "import sklearn\n",
    "import networkx as nx\n",
    "\n",
    "import time, datetime\n",
    "import pickle"
   ]
  },
  {
   "cell_type": "markdown",
   "metadata": {},
   "source": [
    "## parameters setting for rtv algorithm"
   ]
  },
  {
   "cell_type": "code",
   "execution_count": 2,
   "metadata": {},
   "outputs": [],
   "source": [
    "import argparse\n",
    "\n",
    "parser = argparse.ArgumentParser(description='rtv algorithm')\n",
    "# parser.add_argument('-d', '--diff', type=int, default=10, action='store', help='diff days')\n",
    "\n",
    "if bool(getattr(sys, 'ps1', sys.flags.interactive)):\n",
    "    from tqdm import tqdm_notebook as tqdm\n",
    "    data_name = 'alpha'\n",
    "    alpha1 = 1\n",
    "    alpha2 = 1\n",
    "    beta1 = 1\n",
    "    beta2 = 1\n",
    "    gamma1 = 1\n",
    "    gamma2 = 1\n",
    "    gamma3 = 1\n",
    "    gamma4 = 1\n",
    "    max_iter = 10\n",
    "    k = 1\n",
    "    N = 1\n",
    "    ind = 1\n",
    "    trusted_num = 100\n",
    "    verified_num = 100\n",
    "    trusted_rev = 50\n",
    "else:\n",
    "    from tqdm import tqdm\n",
    "    print('script mode')\n",
    "    display=print\n",
    "    \n",
    "    data_name = sys.argv[1]\n",
    "\n",
    "    alpha1 = int(sys.argv[2])\n",
    "    alpha2 = int(sys.argv[3])\n",
    "\n",
    "    beta1 = int(sys.argv[4])\n",
    "    beta2 = int(sys.argv[5])\n",
    "\n",
    "    gamma1 = int(sys.argv[6])\n",
    "    gamma2 = int(sys.argv[7])\n",
    "    gamma3 = int(sys.argv[8])\n",
    "    gamma4 = int(sys.argv[9])\n",
    "\n",
    "    max_iter = int(sys.argv[10])\n",
    "\n",
    "    k = int(sys.argv[11])\n",
    "    N = int(sys.argv[12])\n",
    "    ind = int(sys.argv[13])\n",
    "    \n",
    "    trusted_num = 100\n",
    "    verified_num = 100\n",
    "    trusted_rev = 50"
   ]
  },
  {
   "cell_type": "code",
   "execution_count": 3,
   "metadata": {},
   "outputs": [
    {
     "name": "stdout",
     "output_type": "stream",
     "text": [
      "(24186, 4)\n",
      "(240, 2)\n",
      "rating describe\n",
      "count    24186.000000\n",
      "mean         1.463946\n",
      "std          2.903656\n",
      "min        -10.000000\n",
      "25%          1.000000\n",
      "50%          1.000000\n",
      "75%          2.000000\n",
      "max         10.000000\n",
      "Name: rating, dtype: float64\n"
     ]
    }
   ],
   "source": [
    "import os, sys\n",
    "import numpy as np\n",
    "import pandas as pd\n",
    "\n",
    "import sklearn\n",
    "import networkx as nx\n",
    "\n",
    "import time, datetime\n",
    "import pickle\n",
    "\n",
    "def load_data(data_name):\n",
    "    data_list = ['alpha', 'amazon', 'epinions', 'otc']\n",
    "    assert data_name in data_list\n",
    "    network_df = pd.read_csv('../rev2data/%s/%s_network.csv' %(data_name, data_name), header=None, names=['src', 'dest', 'rating', 'timestamp'], parse_dates=[3], infer_datetime_format=True)\n",
    "    gt_df = pd.read_csv('../rev2data/%s/%s_gt.csv' %(data_name, data_name), header=None, names=['id', 'label'])\n",
    "    if data_name in ['alpha', 'amazon', 'epinions', 'otc']:\n",
    "        network_df['timestamp'] = pd.to_datetime(network_df['timestamp'], unit='s')\n",
    "    return network_df, gt_df\n",
    "\n",
    "network_df, gt_df = load_data(data_name)\n",
    "\n",
    "print(network_df.shape)\n",
    "print(gt_df.shape)\n",
    "print('rating describe')\n",
    "print(network_df['rating'].describe())"
   ]
  },
  {
   "cell_type": "code",
   "execution_count": 4,
   "metadata": {},
   "outputs": [
    {
     "name": "stdout",
     "output_type": "stream",
     "text": [
      "users 3286\n",
      "products 3754\n",
      "reviews 24186\n"
     ]
    }
   ],
   "source": [
    "ts_max = network_df['timestamp'].max()\n",
    "user_list = network_df['src'].unique().tolist()\n",
    "prod_list = network_df['dest'].unique().tolist()\n",
    "rev_per_prod = network_df.shape[0]/len(prod_list)\n",
    "rating_dict = network_df.groupby('dest')['rating'].mean().to_dict()\n",
    "count_dict = network_df.groupby('dest')['rating'].count().to_dict()\n",
    "std_dict = network_df.groupby('dest')['rating'].std().fillna(0).to_dict()\n",
    "\n",
    "rating_max = network_df['rating'].max()\n",
    "rating_min = network_df['rating'].min()\n",
    "\n",
    "print('users %d' %len(user_list))\n",
    "print('products %d' %len(prod_list))\n",
    "print('reviews %d' %network_df.shape[0])"
   ]
  },
  {
   "cell_type": "code",
   "execution_count": 5,
   "metadata": {},
   "outputs": [
    {
     "name": "stdout",
     "output_type": "stream",
     "text": [
      "Target pool size 591, index at 1\n"
     ]
    }
   ],
   "source": [
    "gt_dict = dict(gt_df.values)\n",
    "sd_list = network_df[['src', 'dest']].values.tolist()\n",
    "target_pool_bad = set([t[1] for t in sd_list if t[0] in gt_dict and gt_dict[t[0]] == -1])\n",
    "target_pool_good = set([t[1] for t in sd_list if t[0] in gt_dict and gt_dict[t[0]] == 1])\n",
    "target_pool = list(target_pool_good & target_pool_bad)\n",
    "\n",
    "print('Target pool size %d, index at %d' %(len(target_pool), ind))\n",
    "if len(target_pool) <= ind:\n",
    "    print('exit')"
   ]
  },
  {
   "cell_type": "code",
   "execution_count": 6,
   "metadata": {},
   "outputs": [
    {
     "name": "stdout",
     "output_type": "stream",
     "text": [
      "target product 7554\n",
      "current avg rating -5.75\n",
      "num of rating 4\n"
     ]
    }
   ],
   "source": [
    "np.random.seed(53)\n",
    "T_index = np.random.permutation(len(target_pool))[ind]\n",
    "T = target_pool[T_index]\n",
    "# K sockpuppets, minimum is set to 1 if k is non-zero\n",
    "K = int(np.ceil(k * count_dict[T] / 10))\n",
    "# N geniune reviews for each sockpuppets\n",
    "N = N\n",
    "\n",
    "print('target product', T)\n",
    "print('current avg rating', rating_dict[T])\n",
    "print('num of rating', count_dict[T])"
   ]
  },
  {
   "cell_type": "code",
   "execution_count": 7,
   "metadata": {},
   "outputs": [
    {
     "name": "stdout",
     "output_type": "stream",
     "text": [
      "generate 1 socks\n",
      "1 reviews per sock\n"
     ]
    }
   ],
   "source": [
    "print('generate %d socks' %K)\n",
    "print('%d reviews per sock' %N)\n",
    "\n",
    "def generate_accounts(base_index=0, num=1):\n",
    "    # socks = np.arange(base_index, base_index+num).tolist()\n",
    "    socks = []\n",
    "    while len(socks) < num:\n",
    "        r = np.random.randint(low=len(user_list), high=10*len(user_list))\n",
    "        if r not in user_list: socks += [r]\n",
    "    return socks\n",
    "\n",
    "np.random.seed(79)\n",
    "def generate_bad_reviews(user, prod, prod_list, num=1):\n",
    "    assert num > 0\n",
    "    fr = rating_max\n",
    "    if rating_dict[prod] > 0:\n",
    "        fr = rating_min\n",
    "    reviews = [[user, prod, fr, ts_max]]\n",
    "    fr_prods = np.random.permutation(prod_list)[:num-1]\n",
    "    reviews += [[user, p, np.clip(np.random.normal(rating_dict[p], std_dict[p], 1)[0], a_min=rating_min, a_max=rating_max), pd.datetime.today()] for p in fr_prods]\n",
    "    return reviews"
   ]
  },
  {
   "cell_type": "code",
   "execution_count": 8,
   "metadata": {},
   "outputs": [
    {
     "name": "stdout",
     "output_type": "stream",
     "text": [
      "fake data shape (1, 4)\n"
     ]
    }
   ],
   "source": [
    "socks = generate_accounts(len(user_list), K)\n",
    "\n",
    "fake_data = []\n",
    "for sock in socks:\n",
    "    fake_reviews = generate_bad_reviews(sock, T, prod_list, N)\n",
    "    fake_data += fake_reviews\n",
    "\n",
    "fake_df = pd.DataFrame(fake_data, columns=['src', 'dest', 'rating', 'timestamp'])\n",
    "print('fake data shape', fake_df.shape)\n",
    "# fake_list = pd.DataFrame({'socks': socks, 'value':-1})"
   ]
  },
  {
   "cell_type": "code",
   "execution_count": 9,
   "metadata": {},
   "outputs": [],
   "source": [
    "np.random.seed(89)\n",
    "trusted_users = []\n",
    "while len(trusted_users) < trusted_num:\n",
    "    r = np.random.randint(low=len(user_list), high=10*len(user_list))\n",
    "    if r not in user_list + socks: trusted_users += [r]\n",
    "\n",
    "def generate_good_reviews(user, prod, prod_list, num=1):\n",
    "    assert num > 0\n",
    "    fr_prods = np.random.permutation(prod_list)[:num]\n",
    "    reviews = [[user, p, np.clip(np.random.normal(rating_dict[p], std_dict[p]*0.2, 1)[0], a_min=rating_min, a_max=rating_max), pd.datetime.today()] for p in fr_prods]\n",
    "    return reviews\n",
    "\n",
    "trusted_data = []\n",
    "for tuser in trusted_users:\n",
    "    trusted_data += generate_good_reviews(tuser, T, prod_list, trusted_rev)\n",
    "\n",
    "trusted_df = pd.DataFrame(trusted_data, columns=['src', 'dest', 'rating', 'timestamp'])"
   ]
  },
  {
   "cell_type": "code",
   "execution_count": 10,
   "metadata": {},
   "outputs": [],
   "source": [
    "np.random.seed(83)\n",
    "\n",
    "verified_index = np.random.permutation(len(user_list))[:verified_num]\n",
    "verified_users = [user_list[v] for v in verified_index]"
   ]
  },
  {
   "cell_type": "code",
   "execution_count": 11,
   "metadata": {},
   "outputs": [
    {
     "name": "stdout",
     "output_type": "stream",
     "text": [
      "(29187, 6)\n"
     ]
    }
   ],
   "source": [
    "df = pd.concat([network_df, fake_df, trusted_df])\n",
    "df['fairness'] = 1\n",
    "df['src'] = 'u' + df['src'].astype(str)\n",
    "df['dest'] = 'p' + df['dest'].astype(str)\n",
    "df['weight'] = (df['rating'] - rating_min)/(rating_max - rating_min) * 2 - 1\n",
    "df['timestamp'] = pd.to_numeric(df['timestamp']) / 1e9\n",
    "print(df.shape)\n",
    "\n",
    "new_rating_dict = {'p'+str(p): (rating_dict[p]-rating_min)/(rating_max-rating_min)*2-1 for p in rating_dict}"
   ]
  },
  {
   "cell_type": "code",
   "execution_count": 12,
   "metadata": {},
   "outputs": [
    {
     "name": "stdout",
     "output_type": "stream",
     "text": [
      "number of totdal nodes 7141\n"
     ]
    }
   ],
   "source": [
    "G = nx.from_pandas_edgelist(df, 'src', 'dest', ['weight', 'timestamp', 'fairness'], create_using=nx.DiGraph())\n",
    "print('number of totdal nodes', len(G.nodes))\n",
    "for node in G.nodes:\n",
    "    if node.startswith('u'):\n",
    "        G.node[node]['fairness'] = 1\n",
    "    else:\n",
    "        G.node[node]['goodness'] = new_rating_dict[node]"
   ]
  },
  {
   "cell_type": "code",
   "execution_count": 13,
   "metadata": {},
   "outputs": [],
   "source": [
    "out_dict = {'u'+str(t[0]): gt_dict[t[0]] for t in sd_list if t[1] == T and t[0] in gt_dict}\n",
    "out_dict.update({'u'+str(u): -1 for u in socks})\n",
    "\n",
    "socks_list = ['u'+str(u) for u in socks]\n",
    "trusted_list = ['u' + str(u) for u in trusted_users]\n",
    "verified_list = ['u' + str(u) for u in verified_users]"
   ]
  },
  {
   "cell_type": "code",
   "execution_count": 14,
   "metadata": {},
   "outputs": [
    {
     "name": "stdout",
     "output_type": "stream",
     "text": [
      "save to ../res/rtv/alpha\n",
      "alpha network has 7141 nodes and 29187 edges\n",
      "Init birdnest for alpha\n"
     ]
    }
   ],
   "source": [
    "outdir = '../res/rtv/%s' %(data_name)\n",
    "print('save to', outdir)\n",
    "\n",
    "## algorithm begins here\n",
    "\n",
    "nodes = G.nodes()\n",
    "edges = G.edges(data=True)\n",
    "print (\"%s network has %d nodes and %d edges\" % (data_name, len(nodes), len(edges)))\n",
    "\n",
    "user_names = [node for node in nodes if \"u\" in node]\n",
    "product_names = [node for node in nodes if \"p\" in node]\n",
    "num_users = len(user_names)\n",
    "num_products = len(product_names)\n",
    "user_map = dict(zip(user_names, range(len(user_names))))\n",
    "product_map = dict(zip(product_names, range(len(product_names))))\n",
    "\n",
    "full_birdnest_user = [0] * len(user_names)\n",
    "full_birdnest_product = [0] * len(product_names)\n",
    "full_birdnest_edge = []\n",
    "print (\"Init birdnest for %s\" % data_name)\n",
    "full_birdnest_edge = [0.0]*len(edges)\n",
    "\n",
    "# adapted to nx v2\n",
    "edges_arr = nx.convert_matrix.to_pandas_edgelist(G).values\n",
    "ae = zip(edges_arr[:, 0], edges_arr[:, 1])\n",
    "edge_map = dict(zip(ae, range(len(edges))))\n",
    "\n",
    "for node in nodes:\n",
    "    if \"u\" in node[0]:\n",
    "        G.node[node][\"fairness\"] = 1 - full_birdnest_user[user_map[node]]\n",
    "    else:\n",
    "        G.node[node][\"goodness\"] = (1 - full_birdnest_product[product_map[node]] - 0.5)*2\n",
    "\n",
    "for edge in edges:\n",
    "    G[edge[0]][edge[1]][\"fairness\"] = 1 - full_birdnest_edge[edge_map[(edge[0], edge[1])]]\n",
    "\n",
    "yfg = []\n",
    "ygood = []\n",
    "xfg = []"
   ]
  },
  {
   "cell_type": "code",
   "execution_count": 15,
   "metadata": {},
   "outputs": [],
   "source": [
    "for node in nodes:\n",
    "    if node[0] != 'u': continue\n",
    "    G.nodes[node]['mu'] = np.mean([e[2]['weight'] for e in G.out_edges(node, data=True)])"
   ]
  },
  {
   "cell_type": "code",
   "execution_count": 16,
   "metadata": {},
   "outputs": [],
   "source": [
    "for edge in edges:\n",
    "    dsc = G.edges[edge[0], edge[1]]['weight'] - G.node[edge[0]]['mu']\n",
    "    if dsc == 0:\n",
    "        G.edges[edge[0], edge[1]][\"sc\"] = 0\n",
    "    elif dsc > 0:\n",
    "        G.edges[edge[0], edge[1]][\"sc\"] = np.clip(dsc / (1-G.node[edge[0]]['mu']), -1, 1)\n",
    "    else:\n",
    "        G.edges[edge[0], edge[1]][\"sc\"] = np.clip(dsc / (1+G.node[edge[0]]['mu']), -1, 1)"
   ]
  },
  {
   "cell_type": "code",
   "execution_count": 17,
   "metadata": {},
   "outputs": [
    {
     "name": "stdout",
     "output_type": "stream",
     "text": [
      "5000\n",
      "[('u28148', 'p119', {'weight': 0.24547459004391392, 'timestamp': 1552318439.1159859, 'fairness': 1.0, 'sc': 0.13861327130474507}), ('u28148', 'p2312', {'weight': 0.10000000000000009, 'timestamp': 1552318439.116009, 'fairness': 1.0, 'sc': -0.021402207755081212}), ('u28148', 'p1522', {'weight': 0.10000000000000009, 'timestamp': 1552318439.116024, 'fairness': 1.0, 'sc': -0.021402207755081212}), ('u28148', 'p2484', {'weight': 0.10000000000000009, 'timestamp': 1552318439.1160362, 'fairness': 1.0, 'sc': -0.021402207755081212}), ('u28148', 'p819', {'weight': 1.0, 'timestamp': 1552318439.1160488, 'fairness': 1.0, 'sc': 1.0}), ('u28148', 'p2903', {'weight': 0.10000000000000009, 'timestamp': 1552318439.116062, 'fairness': 1.0, 'sc': -0.021402207755081212}), ('u28148', 'p2476', {'weight': 0.10000000000000009, 'timestamp': 1552318439.116075, 'fairness': 1.0, 'sc': -0.021402207755081212}), ('u28148', 'p596', {'weight': 0.10447725545772979, 'timestamp': 1552318439.116087, 'fairness': 1.0, 'sc': -0.017419087476671397}), ('u28148', 'p1064', {'weight': 0.13281191294031847, 'timestamp': 1552318439.116099, 'fairness': 1.0, 'sc': 0.00999449505708493}), ('u28148', 'p3338', {'weight': 0.10000000000000009, 'timestamp': 1552318439.1161118, 'fairness': 1.0, 'sc': -0.021402207755081212})]\n",
      "600\n",
      "[('u964', 'p1', {'weight': 0.5, 'timestamp': 1350100800.0, 'fairness': 1.0, 'sc': 0.33333333333333326}), ('u964', 'p30', {'weight': 0.10000000000000009, 'timestamp': 1349236800.0, 'fairness': 1.0, 'sc': -0.11999999999999997}), ('u964', 'p46', {'weight': 0.10000000000000009, 'timestamp': 1349236800.0, 'fairness': 1.0, 'sc': -0.11999999999999997}), ('u964', 'p162', {'weight': 0.30000000000000004, 'timestamp': 1350360000.0, 'fairness': 1.0, 'sc': 0.06666666666666665}), ('u35', 'p1', {'weight': 0.3999999999999999, 'timestamp': 1330578000.0, 'fairness': 1.0, 'sc': 0.3769230769230768}), ('u35', 'p2', {'weight': 0.10000000000000009, 'timestamp': 1307246400.0, 'fairness': 1.0, 'sc': 0.06538461538461546}), ('u35', 'p14', {'weight': -0.09999999999999998, 'timestamp': 1366171200.0, 'fairness': 1.0, 'sc': -0.13214285714285715}), ('u35', 'p15', {'weight': 0.5, 'timestamp': 1355547600.0, 'fairness': 1.0, 'sc': 0.4807692307692307}), ('u35', 'p86', {'weight': 0.3999999999999999, 'timestamp': 1398312000.0, 'fairness': 1.0, 'sc': 0.3769230769230768}), ('u35', 'p64', {'weight': 0.3999999999999999, 'timestamp': 1398312000.0, 'fairness': 1.0, 'sc': 0.3769230769230768})]\n"
     ]
    }
   ],
   "source": [
    "te = [e for e in edges if e[0] in trusted_list]\n",
    "print(len(te))\n",
    "print(te[:10])\n",
    "\n",
    "ve = [e for e in edges if e[0] in verified_list]\n",
    "print(len(ve))\n",
    "print(ve[:10])"
   ]
  },
  {
   "cell_type": "code",
   "execution_count": 18,
   "metadata": {},
   "outputs": [],
   "source": [
    "# print(edge)\n",
    "# print([e[0] in trusted_list for e in G.in_edges(edge[1])])\n",
    "# print([1 - abs(edge[2]['sc'] - G.edges[e]['sc'])/2.0 for e in G.in_edges(edge[1]) if e != edge[:2] if e[0] in trusted_list])\n",
    "# print([e != edge[:2] for e in G.in_edges(edge[1])])"
   ]
  },
  {
   "cell_type": "code",
   "execution_count": 27,
   "metadata": {},
   "outputs": [
    {
     "name": "stdout",
     "output_type": "stream",
     "text": [
      "-----------------\n",
      "Epoch number 0 with du = 0.000000, dp = 0.000000, dr = 0.000000, for (1,1,1,1,1,1,1)\n",
      "Update goodness of product\n",
      "Update fairness of ratings\n",
      "update fairness of users\n",
      "-----------------\n",
      "Epoch number 1 with du = 123.807629, dp = 0.001235, dr = 2165.838768, for (1,1,1,1,1,1,1)\n",
      "Update goodness of product\n",
      "Update fairness of ratings\n",
      "update fairness of users\n",
      "-----------------\n",
      "Epoch number 2 with du = 49.597538, dp = 127.678119, dr = 309.804570, for (1,1,1,1,1,1,1)\n",
      "Update goodness of product\n",
      "Update fairness of ratings\n",
      "update fairness of users\n",
      "-----------------\n",
      "Epoch number 3 with du = 15.506275, dp = 37.165990, dr = 62.593374, for (1,1,1,1,1,1,1)\n",
      "Update goodness of product\n",
      "Update fairness of ratings\n",
      "update fairness of users\n",
      "-----------------\n",
      "Epoch number 4 with du = 5.113360, dp = 15.108855, dr = 14.461117, for (1,1,1,1,1,1,1)\n",
      "Update goodness of product\n",
      "Update fairness of ratings\n",
      "update fairness of users\n",
      "-----------------\n",
      "Epoch number 5 with du = 1.351085, dp = 5.867241, dr = 3.783070, for (1,1,1,1,1,1,1)\n",
      "Update goodness of product\n",
      "Update fairness of ratings\n",
      "update fairness of users\n",
      "-----------------\n",
      "Epoch number 6 with du = 0.358208, dp = 2.204882, dr = 0.967202, for (1,1,1,1,1,1,1)\n",
      "Update goodness of product\n",
      "Update fairness of ratings\n",
      "update fairness of users\n",
      "-----------------\n",
      "Epoch number 7 with du = 0.151370, dp = 0.787883, dr = 0.251219, for (1,1,1,1,1,1,1)\n",
      "Update goodness of product\n",
      "Update fairness of ratings\n",
      "update fairness of users\n",
      "-----------------\n",
      "Epoch number 8 with du = 0.053463, dp = 0.277083, dr = 0.083727, for (1,1,1,1,1,1,1)\n",
      "Update goodness of product\n",
      "Update fairness of ratings\n",
      "update fairness of users\n",
      "-----------------\n",
      "Epoch number 9 with du = 0.018608, dp = 0.096434, dr = 0.027524, for (1,1,1,1,1,1,1)\n",
      "Update goodness of product\n",
      "Update fairness of ratings\n",
      "update fairness of users\n"
     ]
    }
   ],
   "source": [
    "##### RTV ITERATIONS START ######\n",
    "iter = 0\n",
    "du=0\n",
    "dp=0\n",
    "dr=0\n",
    "\n",
    "while iter < max_iter:\n",
    "    print ('-----------------')\n",
    "    print (\"Epoch number %d with du = %f, dp = %f, dr = %f, for (%d,%d,%d,%d,%d,%d,%d)\" % (iter, du, dp, dr, alpha1, alpha2, beta1, beta2, gamma1, gamma2, gamma3))\n",
    "    if np.isnan(du) or np.isnan(dp) or np.isnan(dr): break\n",
    "    \n",
    "    du = 0\n",
    "    dp = 0\n",
    "    dr = 0\n",
    "    \n",
    "    ############################################################\n",
    "\n",
    "    print ('Update goodness of product')\n",
    "\n",
    "    currentgvals = []\n",
    "    for node in nodes:\n",
    "        if \"p\" not in node[0]:\n",
    "            continue\n",
    "        currentgvals.append(G.node[node][\"goodness\"])\n",
    "    \n",
    "    median_gvals = np.median(currentgvals) # Alternatively, we can use mean here, intead of median\n",
    "\n",
    "    for node in nodes:\n",
    "        if \"p\" not in node[0]:\n",
    "            continue\n",
    "        \n",
    "        inedges = G.in_edges(node,  data=True)\n",
    "        ftotal = 0.0\n",
    "        gtotal = 0.0\n",
    "        for edge in inedges:\n",
    "            gtotal += edge[2][\"fairness\"]*edge[2][\"weight\"]\n",
    "        ftotal += 1.0\n",
    "        \n",
    "        kl_timestamp = ((1 - full_birdnest_product[product_map[node]]) - 0.5)*2\n",
    "\n",
    "        if ftotal > 0.0:\n",
    "            mean_rating_fairness = (beta1*median_gvals + beta2* kl_timestamp + gtotal)/(beta1 + beta2 + ftotal)\n",
    "        else:\n",
    "            mean_rating_fairness = 0.0\n",
    "        \n",
    "        x = mean_rating_fairness\n",
    "        \n",
    "        if x < -1.0:\n",
    "            x = -1.0\n",
    "        if x > 1.0:\n",
    "            x = 1.0\n",
    "        dp += abs(G.node[node][\"goodness\"] - x)\n",
    "        G.node[node][\"goodness\"] = x\n",
    "    \n",
    "    ############################################################\n",
    "    \n",
    "    print (\"Update fairness of ratings\")\n",
    "    for edge in edges:\n",
    "        # if the user is truster, the reliability of the rating is zaro\n",
    "        if G.node[edge[0]] in trusted_list:\n",
    "            G.edges[edge[0], edge[1]][\"fairness\"] = 1\n",
    "            continue\n",
    "        \n",
    "        component1 = []\n",
    "        component2 = []\n",
    "        component3 = []\n",
    "        for e in G.in_edges(edge[1]):\n",
    "            if e == edge[:2]:\n",
    "                continue\n",
    "            v = 1 - abs(edge[2]['sc'] - G.edges[e]['sc'])/2.0\n",
    "            v = v * G.node[edge[0]]['fairness']\n",
    "            if e[0] in trusted_list:\n",
    "                component1 += [v]\n",
    "            elif e[0] in verified_list:\n",
    "                component2 += [v]\n",
    "            else:\n",
    "                component3 += [v]\n",
    "\n",
    "        # rating_distance = 1 - (abs(edge[2][\"weight\"] - G.node[edge[1]][\"goodness\"])/2.0)\n",
    "        # user_fairness = G.node[edge[0]][\"fairness\"]\n",
    "        # ee = (edge[0], edge[1])\n",
    "        kl_text = 1.0 - full_birdnest_edge[edge_map[e[:2]]]\n",
    "\n",
    "        # the equation for REV2\n",
    "        # x = (gamma2*rating_distance + gamma1*user_fairness + gamma3*kl_text)/(gamma1 + gamma2 + gamma3)\n",
    "        # the equation for RTV\n",
    "        c1 = gamma1*np.mean(component1) if len(component1) > 0 else 0\n",
    "        c2 = gamma2*np.mean(component2) if len(component2) > 0 else 0\n",
    "        c3 = gamma3*np.mean(component3) if len(component3) > 0 else 0\n",
    "        \n",
    "        x = (c1 + c2 + c3 + gamma4*kl_text)/(gamma1*len(component1) + gamma2*len(component2) + gamma3*len(component3) + gamma4)\n",
    "        \n",
    "        if x < 0.00:\n",
    "            x = 0.0\n",
    "        if x > 1.0:\n",
    "            x = 1.0\n",
    "\n",
    "        dr += abs(edge[2][\"fairness\"] - x)\n",
    "        G.edges[edge[0], edge[1]][\"fairness\"] = x\n",
    "    \n",
    "    ############################################################\n",
    "    \n",
    "    currentfvals = []\n",
    "    for node in nodes:\n",
    "        if \"u\" not in node[0]:\n",
    "            continue\n",
    "        currentfvals.append(G.node[node][\"fairness\"])\n",
    "        median_fvals = np.median(currentfvals) # Alternatively, we can use mean here, intead of median\n",
    "\n",
    "    print ('update fairness of users')\n",
    "    for node in nodes:\n",
    "        if \"u\" not in node[0]:\n",
    "            continue\n",
    "        # the trusted users have fairness = 1\n",
    "        if node in trusted_list:\n",
    "            G.node[node][\"fairness\"] = 1.0\n",
    "            continue\n",
    "        \n",
    "        outedges = G.out_edges(node, data=True)\n",
    "        \n",
    "        f = 0\n",
    "        rating_fairness = []\n",
    "        for edge in outedges:\n",
    "            rating_fairness.append(edge[2][\"fairness\"])\n",
    "        \n",
    "        for x in range(0,alpha1):\n",
    "            rating_fairness.append(median_fvals)\n",
    "\n",
    "        kl_timestamp = 1.0 - full_birdnest_user[user_map[node]]\n",
    "\n",
    "        for x in range(0, alpha2):\n",
    "            rating_fairness.append(kl_timestamp)\n",
    "\n",
    "        mean_rating_fairness = np.mean(rating_fairness)\n",
    "\n",
    "        x = mean_rating_fairness #*(kl_timestamp)\n",
    "        if x < 0.00:\n",
    "            x = 0.0\n",
    "        if x > 1.0:\n",
    "            x = 1.0\n",
    "\n",
    "        du += abs(G.node[node][\"fairness\"] - x)\n",
    "        G.node[node][\"fairness\"] = x\n",
    "        #print mean_rating_fairness, kl_timestamp\n",
    "    \n",
    "    iter += 1\n",
    "    if du < 0.01 and dp < 0.01 and dr < 0.01:\n",
    "        break"
   ]
  },
  {
   "cell_type": "code",
   "execution_count": 37,
   "metadata": {},
   "outputs": [
    {
     "name": "stdout",
     "output_type": "stream",
     "text": [
      "3387 0.39555318404691464\n"
     ]
    }
   ],
   "source": [
    "currentfvals = []\n",
    "for node in nodes:\n",
    "    if \"u\" not in node[0]: # only store scores for edge generating nodes\n",
    "        continue\n",
    "    currentfvals.append(G.node[node][\"fairness\"])\n",
    "median_fvals = np.median(currentfvals)\n",
    "print(len(currentfvals), median_fvals)\n",
    "\n",
    "all_node_vals = []\n",
    "for node in nodes:\n",
    "    if \"u\" not in node[0]:\n",
    "        continue\n",
    "    f = G.node[node][\"fairness\"]\n",
    "    all_node_vals.append([node, (f - median_fvals)*np.log(G.out_degree(node)+1), f, G.out_degree(node)])\n",
    "# all_node_vals = np.array(all_node_vals)\n",
    "\n",
    "outfile = '%s/%s-%d-%d-%d-%d-%d-%d-%d-%d-%d-%d.csv' % (outdir, data_name, alpha1, alpha2, beta1, beta2, gamma1, gamma2, gamma3, k, N, ind)\n",
    "\n",
    "rtv_list = [[out_dict[x[0]]]+ list(x) for x in all_node_vals if x[0] in out_dict]\n",
    "\n",
    "out_list = [[x[0]] + ['s' + x[1][1:]] + x[2:] if x[1] in socks_list else x for x in rtv_list]\n",
    "\n",
    "out_list = [[x[0]] + ['t' + x[1][1:]] + x[2:] if x[1] in trusted_list else x for x in out_list]\n",
    "out_list = [[x[0]] + ['v' + x[1][1:]] + x[2:] if x[1] in verified_list else x for x in out_list]\n",
    "\n",
    "out_list = sorted(out_list, key=lambda x: x[2])"
   ]
  },
  {
   "cell_type": "code",
   "execution_count": 38,
   "metadata": {},
   "outputs": [
    {
     "name": "stdout",
     "output_type": "stream",
     "text": [
      "[[-1, 'u177', -1.2575788718455485, 0.15886390890754817, 202], [1, 'u7', -1.0793785027146046, 0.19422513301879513, 212], [1, 'u6', -0.9999955986358035, 0.19571179137496397, 148], [-1, 's22061', 0.11742431285349236, 0.5649606578804423, 1]]\n"
     ]
    }
   ],
   "source": [
    "print(out_list)"
   ]
  },
  {
   "cell_type": "code",
   "execution_count": 40,
   "metadata": {},
   "outputs": [
    {
     "name": "stdout",
     "output_type": "stream",
     "text": [
      "   0       1         2         3    4\n",
      "0 -1    u177 -1.257579  0.158864  202\n",
      "1  1      u7 -1.079379  0.194225  212\n",
      "2  1      u6 -0.999996  0.195712  148\n",
      "3 -1  s22061  0.117424  0.564961    1\n"
     ]
    }
   ],
   "source": [
    "print(pd.DataFrame(out_list))"
   ]
  },
  {
   "cell_type": "code",
   "execution_count": 39,
   "metadata": {},
   "outputs": [],
   "source": [
    "pd.DataFrame(out_list).to_csv(outfile, header=False, index=False)"
   ]
  }
 ],
 "metadata": {
  "kernelspec": {
   "display_name": "Python 3",
   "language": "python",
   "name": "python3"
  },
  "language_info": {
   "codemirror_mode": {
    "name": "ipython",
    "version": 3
   },
   "file_extension": ".py",
   "mimetype": "text/x-python",
   "name": "python",
   "nbconvert_exporter": "python",
   "pygments_lexer": "ipython3",
   "version": "3.7.2"
  }
 },
 "nbformat": 4,
 "nbformat_minor": 2
}
