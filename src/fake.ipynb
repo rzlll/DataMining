{
 "cells": [
  {
   "cell_type": "code",
   "execution_count": 1,
   "metadata": {},
   "outputs": [],
   "source": [
    "import os\n",
    "import sys\n",
    "import numpy as np\n",
    "import pandas as pd\n",
    "\n",
    "import sklearn\n",
    "import networkx as nx\n",
    "\n",
    "import matplotlib\n",
    "import matplotlib.pyplot as plt\n",
    "# plt.style.use('seaborn-paper')\n",
    "import seaborn as sns\n",
    "matplotlib.rc('text', usetex=True)\n",
    "\n",
    "import time, datetime\n",
    "import pickle"
   ]
  },
  {
   "cell_type": "code",
   "execution_count": 21,
   "metadata": {},
   "outputs": [
    {
     "name": "stdout",
     "output_type": "stream",
     "text": [
      "('u1810', 'p13', {'timestamp': 1353128400.0, 'weight': 0.1, 'fairness': 1.0})\n",
      "('p2364', {'goodness': 1.0})\n"
     ]
    }
   ],
   "source": [
    "data_name = 'alpha'\n",
    "with open('../rev2data/%s/%s_networkv2.pkl' %(data_name, data_name), 'rb') as file:\n",
    "    nodes, edges = pickle.load(file)\n",
    "    G = nx.Graph()\n",
    "    G.add_nodes_from(nodes)\n",
    "    G.add_edges_from(edges)\n",
    "print(edges[0])\n",
    "print(nodes[1001])"
   ]
  },
  {
   "cell_type": "code",
   "execution_count": 13,
   "metadata": {},
   "outputs": [
    {
     "name": "stdout",
     "output_type": "stream",
     "text": [
      "('u7188', 'p1', {'timestamp': 1407470400.0, 'weight': 1.0, 'fairness': 1.0})\n"
     ]
    }
   ],
   "source": [
    "for e in edges:\n",
    "    if e[0] == 'u7188':\n",
    "        print(e)"
   ]
  },
  {
   "cell_type": "code",
   "execution_count": 17,
   "metadata": {},
   "outputs": [],
   "source": [
    "def load_data(data_name):\n",
    "    data_list = ['alpha', 'amazon', 'epinions', 'otc']\n",
    "    assert data_name in data_list\n",
    "    network_df = pd.read_csv('../rev2data/%s/%s_network.csv' %(data_name, data_name), header=None, names=['src', 'dest', 'rating', 'timestamp'], parse_dates=[3], infer_datetime_format=True)\n",
    "    gt_df = pd.read_csv('../rev2data/%s/%s_gt.csv' %(data_name, data_name), header=None, names=['id', 'label'])\n",
    "    if data_name in ['alpha', 'amazon', 'epinions', 'otc']:\n",
    "        network_df['timestamp'] = pd.to_datetime(network_df['timestamp'], unit='s')\n",
    "    return network_df, gt_df"
   ]
  },
  {
   "cell_type": "code",
   "execution_count": 18,
   "metadata": {},
   "outputs": [
    {
     "name": "stdout",
     "output_type": "stream",
     "text": [
      "(24186, 4)\n"
     ]
    },
    {
     "data": {
      "text/html": [
       "<div>\n",
       "<style scoped>\n",
       "    .dataframe tbody tr th:only-of-type {\n",
       "        vertical-align: middle;\n",
       "    }\n",
       "\n",
       "    .dataframe tbody tr th {\n",
       "        vertical-align: top;\n",
       "    }\n",
       "\n",
       "    .dataframe thead th {\n",
       "        text-align: right;\n",
       "    }\n",
       "</style>\n",
       "<table border=\"1\" class=\"dataframe\">\n",
       "  <thead>\n",
       "    <tr style=\"text-align: right;\">\n",
       "      <th></th>\n",
       "      <th>src</th>\n",
       "      <th>dest</th>\n",
       "      <th>rating</th>\n",
       "      <th>timestamp</th>\n",
       "    </tr>\n",
       "  </thead>\n",
       "  <tbody>\n",
       "    <tr>\n",
       "      <th>0</th>\n",
       "      <td>7188</td>\n",
       "      <td>1</td>\n",
       "      <td>10</td>\n",
       "      <td>1.407470e+09</td>\n",
       "    </tr>\n",
       "    <tr>\n",
       "      <th>1</th>\n",
       "      <td>430</td>\n",
       "      <td>1</td>\n",
       "      <td>10</td>\n",
       "      <td>1.376539e+09</td>\n",
       "    </tr>\n",
       "    <tr>\n",
       "      <th>2</th>\n",
       "      <td>3134</td>\n",
       "      <td>1</td>\n",
       "      <td>10</td>\n",
       "      <td>1.369714e+09</td>\n",
       "    </tr>\n",
       "    <tr>\n",
       "      <th>3</th>\n",
       "      <td>3026</td>\n",
       "      <td>1</td>\n",
       "      <td>10</td>\n",
       "      <td>1.350014e+09</td>\n",
       "    </tr>\n",
       "    <tr>\n",
       "      <th>4</th>\n",
       "      <td>3010</td>\n",
       "      <td>1</td>\n",
       "      <td>10</td>\n",
       "      <td>1.347854e+09</td>\n",
       "    </tr>\n",
       "  </tbody>\n",
       "</table>\n",
       "</div>"
      ],
      "text/plain": [
       "    src  dest  rating     timestamp\n",
       "0  7188     1      10  1.407470e+09\n",
       "1   430     1      10  1.376539e+09\n",
       "2  3134     1      10  1.369714e+09\n",
       "3  3026     1      10  1.350014e+09\n",
       "4  3010     1      10  1.347854e+09"
      ]
     },
     "metadata": {},
     "output_type": "display_data"
    },
    {
     "name": "stdout",
     "output_type": "stream",
     "text": [
      "(240, 2)\n"
     ]
    },
    {
     "data": {
      "text/html": [
       "<div>\n",
       "<style scoped>\n",
       "    .dataframe tbody tr th:only-of-type {\n",
       "        vertical-align: middle;\n",
       "    }\n",
       "\n",
       "    .dataframe tbody tr th {\n",
       "        vertical-align: top;\n",
       "    }\n",
       "\n",
       "    .dataframe thead th {\n",
       "        text-align: right;\n",
       "    }\n",
       "</style>\n",
       "<table border=\"1\" class=\"dataframe\">\n",
       "  <thead>\n",
       "    <tr style=\"text-align: right;\">\n",
       "      <th></th>\n",
       "      <th>id</th>\n",
       "      <th>label</th>\n",
       "    </tr>\n",
       "  </thead>\n",
       "  <tbody>\n",
       "    <tr>\n",
       "      <th>0</th>\n",
       "      <td>3</td>\n",
       "      <td>1</td>\n",
       "    </tr>\n",
       "    <tr>\n",
       "      <th>1</th>\n",
       "      <td>335</td>\n",
       "      <td>1</td>\n",
       "    </tr>\n",
       "    <tr>\n",
       "      <th>2</th>\n",
       "      <td>28</td>\n",
       "      <td>1</td>\n",
       "    </tr>\n",
       "    <tr>\n",
       "      <th>3</th>\n",
       "      <td>336</td>\n",
       "      <td>1</td>\n",
       "    </tr>\n",
       "    <tr>\n",
       "      <th>4</th>\n",
       "      <td>333</td>\n",
       "      <td>1</td>\n",
       "    </tr>\n",
       "  </tbody>\n",
       "</table>\n",
       "</div>"
      ],
      "text/plain": [
       "    id  label\n",
       "0    3      1\n",
       "1  335      1\n",
       "2   28      1\n",
       "3  336      1\n",
       "4  333      1"
      ]
     },
     "metadata": {},
     "output_type": "display_data"
    },
    {
     "name": "stdout",
     "output_type": "stream",
     "text": [
      "rating\n"
     ]
    },
    {
     "data": {
      "text/plain": [
       "count    24186.000000\n",
       "mean         1.463946\n",
       "std          2.903656\n",
       "min        -10.000000\n",
       "25%          1.000000\n",
       "50%          1.000000\n",
       "75%          2.000000\n",
       "max         10.000000\n",
       "Name: rating, dtype: float64"
      ]
     },
     "metadata": {},
     "output_type": "display_data"
    }
   ],
   "source": [
    "network_df, gt_df = load_data('alpha')\n",
    "\n",
    "print(network_df.shape)\n",
    "display(network_df.head())\n",
    "\n",
    "print(gt_df.shape)\n",
    "display(gt_df.head())\n",
    "\n",
    "print('rating')\n",
    "display(network_df['rating'].describe())"
   ]
  },
  {
   "cell_type": "code",
   "execution_count": 41,
   "metadata": {},
   "outputs": [
    {
     "name": "stdout",
     "output_type": "stream",
     "text": [
      "users 3286\n",
      "products 3754\n",
      "reviews 24186\n",
      "reviews/prod 6.44\n",
      "min max -10.00 10.00\n"
     ]
    }
   ],
   "source": [
    "user_list = network_df['src'].unique().tolist()\n",
    "prod_list = network_df['dest'].unique().tolist()\n",
    "rev_per_prod = network_df.shape[0]/len(prod_list)\n",
    "rating_dict = network_df.groupby('dest')['rating'].mean().to_dict()\n",
    "count_dict = network_df.groupby('dest')['rating'].count().to_dict()\n",
    "std_dict = network_df.groupby('dest')['rating'].std().fillna(0).to_dict()\n",
    "\n",
    "rating_max = network_df['rating'].max()\n",
    "rating_min = network_df['rating'].min()\n",
    "\n",
    "print('users %d' %len(user_list))\n",
    "print('products %d' %len(prod_list))\n",
    "print('reviews %d' %network_df.shape[0])\n",
    "print('reviews/prod %.2f' %rev_per_prod)\n",
    "print('min max %.2f %.2f' %(rating_min, rating_max))"
   ]
  },
  {
   "cell_type": "code",
   "execution_count": 80,
   "metadata": {},
   "outputs": [
    {
     "name": "stdout",
     "output_type": "stream",
     "text": [
      "target product 5\n",
      "current avg rating 2.671232876712329\n",
      "num of rating 146\n",
      "generate 1 socks\n",
      "0 reviews per sock\n"
     ]
    }
   ],
   "source": [
    "# target\n",
    "np.random.seed(29)\n",
    "T_index = np.random.randint(len(prod_list))\n",
    "T = network_df['dest'][T_index]\n",
    "# K sockpuppets\n",
    "# k is the index of the test\n",
    "k = 1\n",
    "K = int(k * count_dict[T] / 10)\n",
    "# K = 1\n",
    "# N geniune reviews for each sockpuppets\n",
    "N = 0\n",
    "\n",
    "print('target product', T)\n",
    "print('current avg rating', rating_dict[T])\n",
    "print('num of rating', count_dict[T])\n",
    "\n",
    "print('generate %d socks' %K)\n",
    "print('%d reviews per sock' %N)"
   ]
  },
  {
   "cell_type": "code",
   "execution_count": 81,
   "metadata": {},
   "outputs": [],
   "source": [
    "def generate_sockpuppets(base_index=0, num=1):\n",
    "    socks = np.arange(base_index, base_index+num).tolist()\n",
    "    return socks\n",
    "\n",
    "np.random.seed(0)\n",
    "def generate_reviews(user, prod, prod_list, num):\n",
    "    fr = rating_max\n",
    "    if rating_dict[prod] > 0:\n",
    "        fr = rating_min\n",
    "    reviews = [[user, prod, fr, pd.datetime.now()]]\n",
    "    fr_prods = np.random.permutation(prod_list)[:num]\n",
    "    reviews += [[user, p, np.clip(np.random.normal(rating_dict[p], std_dict[p], 1)[0], a_min=rating_min, a_max=rating_max), pd.datetime.today()] for p in fr_prods]\n",
    "    return reviews\n",
    "\n",
    "socks = generate_sockpuppets(len(user_list), K)\n",
    "\n",
    "fake_data = []\n",
    "for sock in socks:\n",
    "    fake_reviews = generate_reviews(sock, T, prod_list, N)\n",
    "    fake_data += fake_reviews"
   ]
  },
  {
   "cell_type": "code",
   "execution_count": 82,
   "metadata": {},
   "outputs": [
    {
     "data": {
      "text/html": [
       "<div>\n",
       "<style scoped>\n",
       "    .dataframe tbody tr th:only-of-type {\n",
       "        vertical-align: middle;\n",
       "    }\n",
       "\n",
       "    .dataframe tbody tr th {\n",
       "        vertical-align: top;\n",
       "    }\n",
       "\n",
       "    .dataframe thead th {\n",
       "        text-align: right;\n",
       "    }\n",
       "</style>\n",
       "<table border=\"1\" class=\"dataframe\">\n",
       "  <thead>\n",
       "    <tr style=\"text-align: right;\">\n",
       "      <th></th>\n",
       "      <th>src</th>\n",
       "      <th>dest</th>\n",
       "      <th>rating</th>\n",
       "      <th>timestamp</th>\n",
       "    </tr>\n",
       "  </thead>\n",
       "  <tbody>\n",
       "  </tbody>\n",
       "</table>\n",
       "</div>"
      ],
      "text/plain": [
       "Empty DataFrame\n",
       "Columns: [src, dest, rating, timestamp]\n",
       "Index: []"
      ]
     },
     "metadata": {},
     "output_type": "display_data"
    },
    {
     "name": "stdout",
     "output_type": "stream",
     "text": [
      "(1, 4)\n"
     ]
    },
    {
     "data": {
      "text/html": [
       "<div>\n",
       "<style scoped>\n",
       "    .dataframe tbody tr th:only-of-type {\n",
       "        vertical-align: middle;\n",
       "    }\n",
       "\n",
       "    .dataframe tbody tr th {\n",
       "        vertical-align: top;\n",
       "    }\n",
       "\n",
       "    .dataframe thead th {\n",
       "        text-align: right;\n",
       "    }\n",
       "</style>\n",
       "<table border=\"1\" class=\"dataframe\">\n",
       "  <thead>\n",
       "    <tr style=\"text-align: right;\">\n",
       "      <th></th>\n",
       "      <th>socks</th>\n",
       "      <th>value</th>\n",
       "    </tr>\n",
       "  </thead>\n",
       "  <tbody>\n",
       "    <tr>\n",
       "      <th>0</th>\n",
       "      <td>3286</td>\n",
       "      <td>-1</td>\n",
       "    </tr>\n",
       "  </tbody>\n",
       "</table>\n",
       "</div>"
      ],
      "text/plain": [
       "   socks  value\n",
       "0   3286     -1"
      ]
     },
     "metadata": {},
     "output_type": "display_data"
    }
   ],
   "source": [
    "fake_df = pd.DataFrame(fake_data, columns=['src', 'dest', 'rating', 'timestamp'])\n",
    "display(fake_df.head(N))\n",
    "print(fake_df.shape)\n",
    "\n",
    "fake_list = pd.DataFrame({'socks': socks, 'value':-1})\n",
    "display(fake_list.head())"
   ]
  },
  {
   "cell_type": "code",
   "execution_count": 73,
   "metadata": {},
   "outputs": [
    {
     "data": {
      "text/plain": [
       "(27398, 6)"
      ]
     },
     "metadata": {},
     "output_type": "display_data"
    },
    {
     "data": {
      "text/html": [
       "<div>\n",
       "<style scoped>\n",
       "    .dataframe tbody tr th:only-of-type {\n",
       "        vertical-align: middle;\n",
       "    }\n",
       "\n",
       "    .dataframe tbody tr th {\n",
       "        vertical-align: top;\n",
       "    }\n",
       "\n",
       "    .dataframe thead th {\n",
       "        text-align: right;\n",
       "    }\n",
       "</style>\n",
       "<table border=\"1\" class=\"dataframe\">\n",
       "  <thead>\n",
       "    <tr style=\"text-align: right;\">\n",
       "      <th></th>\n",
       "      <th>src</th>\n",
       "      <th>dest</th>\n",
       "      <th>rating</th>\n",
       "      <th>timestamp</th>\n",
       "      <th>fairness</th>\n",
       "      <th>weight</th>\n",
       "    </tr>\n",
       "  </thead>\n",
       "  <tbody>\n",
       "    <tr>\n",
       "      <th>0</th>\n",
       "      <td>u7188</td>\n",
       "      <td>p1</td>\n",
       "      <td>10.0</td>\n",
       "      <td>1.40747e+09</td>\n",
       "      <td>1</td>\n",
       "      <td>1.0</td>\n",
       "    </tr>\n",
       "    <tr>\n",
       "      <th>1</th>\n",
       "      <td>u430</td>\n",
       "      <td>p1</td>\n",
       "      <td>10.0</td>\n",
       "      <td>1.37654e+09</td>\n",
       "      <td>1</td>\n",
       "      <td>1.0</td>\n",
       "    </tr>\n",
       "    <tr>\n",
       "      <th>2</th>\n",
       "      <td>u3134</td>\n",
       "      <td>p1</td>\n",
       "      <td>10.0</td>\n",
       "      <td>1.36971e+09</td>\n",
       "      <td>1</td>\n",
       "      <td>1.0</td>\n",
       "    </tr>\n",
       "    <tr>\n",
       "      <th>3</th>\n",
       "      <td>u3026</td>\n",
       "      <td>p1</td>\n",
       "      <td>10.0</td>\n",
       "      <td>1.35001e+09</td>\n",
       "      <td>1</td>\n",
       "      <td>1.0</td>\n",
       "    </tr>\n",
       "    <tr>\n",
       "      <th>4</th>\n",
       "      <td>u3010</td>\n",
       "      <td>p1</td>\n",
       "      <td>10.0</td>\n",
       "      <td>1.34785e+09</td>\n",
       "      <td>1</td>\n",
       "      <td>1.0</td>\n",
       "    </tr>\n",
       "  </tbody>\n",
       "</table>\n",
       "</div>"
      ],
      "text/plain": [
       "     src dest  rating    timestamp  fairness  weight\n",
       "0  u7188   p1    10.0  1.40747e+09         1     1.0\n",
       "1   u430   p1    10.0  1.37654e+09         1     1.0\n",
       "2  u3134   p1    10.0  1.36971e+09         1     1.0\n",
       "3  u3026   p1    10.0  1.35001e+09         1     1.0\n",
       "4  u3010   p1    10.0  1.34785e+09         1     1.0"
      ]
     },
     "metadata": {},
     "output_type": "display_data"
    },
    {
     "name": "stdout",
     "output_type": "stream",
     "text": [
      "number of totdal nodes 7229\n",
      "{'fairness': 1}\n",
      "{'goodness': 0.1904522613065327}\n",
      "{'weight': 1.0, 'timestamp': 1407470400.0, 'fairness': 1}\n"
     ]
    }
   ],
   "source": [
    "df = pd.concat([network_df, fake_df])\n",
    "df['fairness'] = 1\n",
    "df['src'] = 'u' + df['src'].astype(str)\n",
    "df['dest'] = 'p' + df['dest'].astype(str)\n",
    "df['weight'] = (df['rating'] - rating_min)/(rating_max - rating_min) * 2 - 1\n",
    "display(df.shape)\n",
    "display(df.head())\n",
    "\n",
    "new_rating_dict = {'p'+str(p): (rating_dict[p]-rating_min)/(rating_max-rating_min)*2-1 for p in rating_dict}\n",
    "\n",
    "G = nx.from_pandas_edgelist(df, 'src', 'dest', ['weight', 'timestamp', 'fairness'], create_using=nx.DiGraph())\n",
    "print('number of totdal nodes', len(G.nodes))\n",
    "for node in G.nodes:\n",
    "    if node.startswith('u'):\n",
    "        G.node[node]['fairness'] = 1\n",
    "    else:\n",
    "        G.node[node]['goodness'] = new_rating_dict[node]\n",
    "print(G.node['u7188'])\n",
    "print(G.node['p1'])\n",
    "print(G.edges['u7188', 'p1'])"
   ]
  },
  {
   "cell_type": "code",
   "execution_count": 74,
   "metadata": {},
   "outputs": [
    {
     "data": {
      "text/plain": [
       "{'goodness': 0.1904522613065327}"
      ]
     },
     "execution_count": 74,
     "metadata": {},
     "output_type": "execute_result"
    }
   ],
   "source": [
    "# nx.gpickle.write_gpickle(G, 'test.pkl')\n",
    "# GG = nx.gpickle.read_gpickle('test.pkl')"
   ]
  }
 ],
 "metadata": {
  "kernelspec": {
   "display_name": "Python 3",
   "language": "python",
   "name": "python3"
  },
  "language_info": {
   "codemirror_mode": {
    "name": "ipython",
    "version": 3
   },
   "file_extension": ".py",
   "mimetype": "text/x-python",
   "name": "python",
   "nbconvert_exporter": "python",
   "pygments_lexer": "ipython3",
   "version": "3.6.5"
  }
 },
 "nbformat": 4,
 "nbformat_minor": 2
}
