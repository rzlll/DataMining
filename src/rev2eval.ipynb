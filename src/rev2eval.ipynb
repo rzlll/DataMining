{
 "cells": [
  {
   "cell_type": "code",
   "execution_count": 1,
   "metadata": {},
   "outputs": [],
   "source": [
    "import os\n",
    "import sys\n",
    "import numpy as np\n",
    "import pandas as pd\n",
    "\n",
    "import sklearn\n",
    "import sklearn.metrics\n",
    "import networkx as nx\n",
    "\n",
    "import matplotlib\n",
    "import matplotlib.pyplot as plt\n",
    "# plt.style.use('seaborn-paper')\n",
    "import seaborn as sns\n",
    "matplotlib.rc('text', usetex=True)\n",
    "\n",
    "import time, datetime\n",
    "import itertools\n",
    "from joblib import Parallel, delayed\n",
    "import pickle"
   ]
  },
  {
   "cell_type": "code",
   "execution_count": 4,
   "metadata": {},
   "outputs": [],
   "source": [
    "data_name = 'otc'\n",
    "\n",
    "network_df = pd.read_csv('../rev2data/%s/%s_network.csv' %(data_name, data_name), header=None, names=['src', 'dest', 'rating', 'timestamp'], parse_dates=[3], infer_datetime_format=True)\n",
    "\n",
    "user_list = ['u' + str(u) for u in network_df['src'].tolist()]\n",
    "\n",
    "gt_df = pd.read_csv('../rev2data/%s/%s_gt.csv' %(data_name, data_name), header=None, names=['id', 'label'])\n",
    "gt = dict([('u'+str(x[0]), x[1]) for x in zip(gt_df['id'], gt_df['label'])])\n",
    "\n",
    "with open('../rev2res/%s_old.pkl' %data_name, 'rb') as f:\n",
    "    results_dict = pickle.load(f)"
   ]
  },
  {
   "cell_type": "markdown",
   "metadata": {},
   "source": [
    "## Computation\n",
    "+ average precision grid\n",
    "+ evading grid"
   ]
  },
  {
   "cell_type": "code",
   "execution_count": 5,
   "metadata": {},
   "outputs": [
    {
     "name": "stderr",
     "output_type": "stream",
     "text": [
      "[Parallel(n_jobs=-1)]: Using backend LokyBackend with 24 concurrent workers.\n",
      "[Parallel(n_jobs=-1)]: Done  24 tasks      | elapsed:  1.9min\n",
      "[Parallel(n_jobs=-1)]: Done 114 tasks      | elapsed:  2.6min\n",
      "[Parallel(n_jobs=-1)]: Done 240 tasks      | elapsed:  3.6min\n",
      "[Parallel(n_jobs=-1)]: Done 402 tasks      | elapsed:  4.9min\n",
      "[Parallel(n_jobs=-1)]: Done 600 tasks      | elapsed:  6.4min\n",
      "[Parallel(n_jobs=-1)]: Done 834 tasks      | elapsed:  8.3min\n",
      "[Parallel(n_jobs=-1)]: Done 1104 tasks      | elapsed: 10.4min\n",
      "[Parallel(n_jobs=-1)]: Done 1410 tasks      | elapsed: 12.9min\n",
      "[Parallel(n_jobs=-1)]: Done 1752 tasks      | elapsed: 15.6min\n",
      "[Parallel(n_jobs=-1)]: Done 2130 tasks      | elapsed: 18.6min\n",
      "[Parallel(n_jobs=-1)]: Done 2420 out of 2420 | elapsed: 20.9min finished\n"
     ]
    }
   ],
   "source": [
    "def fix_metrics(k, n, ind):\n",
    "    user_score = results_dict[(k, n, ind)]\n",
    "    u_list = [u for u in user_score if u in gt or u not in user_list]\n",
    "    ytrue = [0 if u in gt and gt[u] == 1 else 1 if u in gt else 2 for u in u_list]\n",
    "    yscore = [user_score[u] for u in u_list]\n",
    "    return {'ulist': u_list, 'ytrue': ytrue, 'yscore': yscore}\n",
    "def compute_metrics(k, n, ind):\n",
    "    user_score = results_dict[(k, n, ind)]\n",
    "    u_list = [u for u in user_score if u in gt or u not in user_list]\n",
    "    ytrue = [0 if u in gt and gt[u] == 1 else 1 if u in gt else 2 for u in u_list]\n",
    "    yscore = [user_score[u] for u in u_list]\n",
    "    ap = sklearn.metrics.average_precision_score(y_score=yscore, y_true=ytrue)\n",
    "    auc = sklearn.metrics.roc_auc_score(y_score=yscore, y_true=ytrue)\n",
    "    evade_list = [u for u in user_score if u not in user_list]\n",
    "    er = 0\n",
    "    if len(evade_list) > 0:\n",
    "        er = sum([1 for u in evade_list if user_score[u] > 0]) / len(evade_list)\n",
    "    return ap, auc, er\n",
    "\n",
    "# results = Parallel(n_jobs=-1, verbose=3)(delayed(compute_metrics)(k, n, ind) for k, n, ind in itertools.product(range(11), range(11), range(20)))\n",
    "results = Parallel(n_jobs=-1, verbose=5)(delayed(fix_metrics)(k, n, ind) for k, n, ind in itertools.product(range(11), range(11), range(20)))\n",
    "\n",
    "results_dict = dict(zip(itertools.product(range(11), range(11), range(20)), results))\n",
    "with open('../rev2res/%s.pkl' %data_name, 'wb') as f:\n",
    "    pickle.dump(results_dict, f)"
   ]
  },
  {
   "cell_type": "code",
   "execution_count": null,
   "metadata": {},
   "outputs": [],
   "source": [
    "ap_mat = np.zeros((11, 11, 20))\n",
    "er_mat = np.zeros((11, 11, 20))\n",
    "auc_mat = np.zeros((11, 11, 20))\n",
    "\n",
    "results_dict = dict(zip(itertools.product(range(11), range(11), range(20)), results))\n",
    "\n",
    "for k, n, ind in itertools.product(range(11), range(11), range(20)):\n",
    "    er_mat[k, n, ind] = results_dict[(k, n, ind)][0]\n",
    "    ap_mat[k, n, ind] = results_dict[(k, n, ind)][1]\n",
    "    auc_mat[k, n, ind] = results_dict[(k, n, ind)][2]"
   ]
  },
  {
   "cell_type": "markdown",
   "metadata": {},
   "source": [
    "## Vary n"
   ]
  },
  {
   "cell_type": "code",
   "execution_count": null,
   "metadata": {},
   "outputs": [],
   "source": [
    "nfig, axes = plt.subplots(1, 3, figsize=(12, 4))\n",
    "\n",
    "ax = axes[0]\n",
    "x = np.arange(11)\n",
    "y = np.mean(ap_mat, axis=(0, 2))\n",
    "# e = np.std(ap_mat, axis=0)\n",
    "ax.plot(x, y, marker='x')\n",
    "# ax.errorbar(x, y, e, linestyle='None', capsize=2)\n",
    "ax.set_ylabel('Average precision', fontsize=15)\n",
    "ax.set_xlabel('N', fontsize=15)\n",
    "\n",
    "ax = axes[1]\n",
    "x = np.arange(11)\n",
    "y = np.mean(auc_mat, axis=(0, 2))\n",
    "# e = np.std(auc_mat, axis=0)\n",
    "ax.plot(x, y, marker='x')\n",
    "# ax.errorbar(x, y, e, linestyle='None', capsize=2)\n",
    "ax.set_ylabel('AUC', fontsize=15)\n",
    "ax.set_xlabel('N', fontsize=15)\n",
    "\n",
    "ax = axes[2]\n",
    "x = np.arange(11)\n",
    "y = np.mean(er_mat, axis=(0, 2))\n",
    "# e = np.std(er_mat, axis=0)\n",
    "ax.plot(x, y, marker='x')\n",
    "# ax.errorbar(x, y, e, linestyle='None', capsize=2)\n",
    "ax.set_ylabel('Evade rate', fontsize=15)\n",
    "ax.set_xlabel('N', fontsize=15)\n",
    "\n",
    "nfig.tight_layout()"
   ]
  },
  {
   "cell_type": "markdown",
   "metadata": {},
   "source": [
    "## Vary N given k"
   ]
  },
  {
   "cell_type": "code",
   "execution_count": null,
   "metadata": {},
   "outputs": [],
   "source": [
    "knfig, axes = plt.subplots(1, 3, figsize=(12, 4))\n",
    "\n",
    "k = 1\n",
    "ax = axes[0]\n",
    "x = np.arange(11)\n",
    "y = ap_mat[k, :]\n",
    "ax.plot(x, y, marker='x')\n",
    "# ax.errorbar(x, y, e, linestyle='None', capsize=2)\n",
    "ax.set_ylabel('Average precision', fontsize=15)\n",
    "ax.set_xlabel('N', fontsize=15)\n",
    "\n",
    "ax = axes[1]\n",
    "x = np.arange(11)\n",
    "y = auc_mat[k, :]\n",
    "ax.plot(x, y, marker='x')\n",
    "# ax.errorbar(x, y, e, linestyle='None', capsize=2)\n",
    "ax.set_ylabel('AUC', fontsize=15)\n",
    "ax.set_xlabel('N', fontsize=15)\n",
    "\n",
    "ax = axes[2]\n",
    "x = np.arange(11)\n",
    "y = er_mat[k, :]\n",
    "ax.plot(x, y, marker='x')\n",
    "# ax.errorbar(x, y, e, linestyle='None', capsize=2)\n",
    "ax.set_ylabel('Evade rate', fontsize=15)\n",
    "ax.set_xlabel('N', fontsize=15)\n",
    "\n",
    "knfig.tight_layout()"
   ]
  },
  {
   "cell_type": "markdown",
   "metadata": {},
   "source": [
    "## Vary k"
   ]
  },
  {
   "cell_type": "code",
   "execution_count": null,
   "metadata": {},
   "outputs": [],
   "source": [
    "kfig, axes = plt.subplots(1, 3, figsize=(12, 4))\n",
    "\n",
    "ax = axes[0]\n",
    "x = np.arange(11)/10\n",
    "y = np.mean(ap_mat, axis=(1, 2))\n",
    "e = np.std(ap_mat, axis=1)\n",
    "ax.plot(x, y, marker='x')\n",
    "# ax.errorbar(x, y, e, linestyle='None', capsize=2)\n",
    "ax.set_ylabel('Average precision', fontsize=15)\n",
    "ax.set_xlabel('k', fontsize=15)\n",
    "\n",
    "ax = axes[1]\n",
    "x = np.arange(11)/10\n",
    "y = np.mean(auc_mat, axis=(1, 2))\n",
    "e = np.std(auc_mat, axis=1)\n",
    "ax.plot(x, y, marker='x')\n",
    "# ax.errorbar(x, y, e, linestyle='None', capsize=2)\n",
    "ax.set_ylabel('AUC', fontsize=15)\n",
    "ax.set_xlabel('k', fontsize=15)\n",
    "\n",
    "ax = axes[2]\n",
    "x = np.arange(11)/10\n",
    "y = np.mean(er_mat, axis=(1, 2))\n",
    "e = np.std(er_mat, axis=1)\n",
    "ax.plot(x, y, marker='x')\n",
    "# ax.errorbar(x, y, e, linestyle='None', capsize=2)\n",
    "ax.set_ylabel('Evade rate', fontsize=15)\n",
    "ax.set_xlabel('k', fontsize=15)\n",
    "\n",
    "kfig.tight_layout()"
   ]
  },
  {
   "cell_type": "code",
   "execution_count": null,
   "metadata": {},
   "outputs": [],
   "source": [
    "nfig.savefig('../rev2fig/%s-n.pdf' %data_name)\n",
    "kfig.savefig('../rev2fig/%s-k.pdf' %data_name)\n",
    "knfig.savefig('../rev2fig/%s-kn.pdf' %data_name)"
   ]
  }
 ],
 "metadata": {
  "kernelspec": {
   "display_name": "Python 3",
   "language": "python",
   "name": "python3"
  },
  "language_info": {
   "codemirror_mode": {
    "name": "ipython",
    "version": 3
   },
   "file_extension": ".py",
   "mimetype": "text/x-python",
   "name": "python",
   "nbconvert_exporter": "python",
   "pygments_lexer": "ipython3",
   "version": "3.6.5"
  }
 },
 "nbformat": 4,
 "nbformat_minor": 2
}
