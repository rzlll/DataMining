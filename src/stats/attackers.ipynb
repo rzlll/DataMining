{
 "cells": [
  {
   "cell_type": "code",
   "execution_count": 1,
   "metadata": {},
   "outputs": [],
   "source": [
    "import os\n",
    "import sys\n",
    "import numpy as np\n",
    "import pandas as pd\n",
    "\n",
    "import sklearn\n",
    "import networkx as nx\n",
    "\n",
    "import matplotlib\n",
    "import matplotlib.pyplot as plt\n",
    "import seaborn as sns\n",
    "matplotlib.rc('text', usetex=True)\n",
    "\n",
    "import time, datetime\n",
    "import pickle"
   ]
  },
  {
   "cell_type": "code",
   "execution_count": 2,
   "metadata": {},
   "outputs": [],
   "source": [
    "def load_data(data_name):\n",
    "    data_list = ['alpha', 'amazon', 'epinions', 'otc']\n",
    "    assert data_name in data_list\n",
    "    network_df = pd.read_csv('../../rev2data/%s/%s_network.csv' %(data_name, data_name), header=None, names=['src', 'dest', 'rating', 'timestamp'], parse_dates=[3], infer_datetime_format=True)\n",
    "    gt_df = pd.read_csv('../../rev2data/%s/%s_gt.csv' %(data_name, data_name), header=None, names=['id', 'label'])\n",
    "    if data_name in ['alpha', 'amazon', 'epinions', 'otc']:\n",
    "        network_df['timestamp'] = pd.to_datetime(network_df['timestamp'], unit='s')\n",
    "    return network_df, gt_df"
   ]
  },
  {
   "cell_type": "code",
   "execution_count": 3,
   "metadata": {},
   "outputs": [],
   "source": [
    "def get_attacker_df(data_name = 'alpha'):\n",
    "    network_df, gt_df = load_data(data_name)\n",
    "    attacker_list = gt_df.loc[gt_df['label'] == -1]['id'].tolist()\n",
    "    print('attacker list {}: {}...'.format(len(attacker_list), attacker_list[:10]))\n",
    "    attacker_df = network_df.loc[network_df['src'].isin(attacker_list)]\n",
    "    return attacker_df"
   ]
  },
  {
   "cell_type": "code",
   "execution_count": 4,
   "metadata": {},
   "outputs": [
    {
     "name": "stdout",
     "output_type": "stream",
     "text": [
      "attacker list 102: [338, 211, 177, 7380, 7590, 257, 255, 7457, 7599, 7598]...\n",
      "data: alpha\n",
      " attacker: mean 19.313253012048193, std 40.79542289930042\n",
      " defender: mean 1.8278221208665906, std 1.789428986067001\n",
      "attacker list 241: ['A1FEP94TP15RG0', 'A3HXME9ZRYK5P', 'A2RME4353Y911C', 'A2A5RQRIUHGVOM', 'A31MZR41SM9JU5', 'A18RIOMAB7DJQ', 'ABK32ED0M15MR', 'A3L9NGPTBJBQEL', 'A3EH0O05YNABWG', 'A3US1QSEMTLW18']...\n",
      "data: amazon\n",
      " attacker: mean 9.04564315352697, std 8.601477083741491\n",
      " defender: mean 1.6666666666666667, std 1.615406568968179\n",
      "attacker list 1013: [213885, 219050, 431231, 305277, 3036450692, 5301702532, 363189, 297788, 13477973892, 499406]...\n",
      "data: epinions\n",
      " attacker: mean 68.07185628742515, std 237.41069038354846\n",
      " defender: mean 3.629050279329609, std 9.985174682532275\n",
      "attacker list 180: [2712, 5172, 5171, 5170, 5177, 2717, 2962, 2718, 2657, 2096]...\n",
      "data: otc\n",
      " attacker: mean 13.939130434782609, std 37.63333883964695\n",
      " defender: mean 1.8112994350282485, std 2.334932199750521\n"
     ]
    }
   ],
   "source": [
    "data_stats = {}\n",
    "for data_name in ['alpha', 'amazon', 'epinions', 'otc']:\n",
    "    attacker_df = get_attacker_df(data_name)\n",
    "    data_stats[data_name] = attacker_df\n",
    "    attacker_stats = attacker_df.groupby('src').size()\n",
    "    defender_stats = attacker_df.groupby('dest').size()\n",
    "    print('data: {}\\n reviews: mean {}, std {}\\n accounts: mean {}, std {}'.format(data_name, attacker_stats.mean(), attacker_stats.std(), defender_stats.mean(), defender_stats.std()))"
   ]
  }
 ],
 "metadata": {
  "kernelspec": {
   "display_name": "Python 3",
   "language": "python",
   "name": "python3"
  },
  "language_info": {
   "codemirror_mode": {
    "name": "ipython",
    "version": 3
   },
   "file_extension": ".py",
   "mimetype": "text/x-python",
   "name": "python",
   "nbconvert_exporter": "python",
   "pygments_lexer": "ipython3",
   "version": "3.7.0"
  }
 },
 "nbformat": 4,
 "nbformat_minor": 2
}
