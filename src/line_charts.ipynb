{
 "cells": [
  {
   "cell_type": "code",
   "execution_count": 3,
   "metadata": {},
   "outputs": [],
   "source": [
    "import os, sys, argparse\n",
    "import pandas as pd\n",
    "import numpy as np\n",
    "\n",
    "import pickle\n",
    "import itertools\n",
    "\n",
    "import matplotlib.pyplot as plt\n",
    "import seaborn as sns\n",
    "\n",
    "import warnings\n",
    "# warnings.filterwarnings(action='ignore', category=DeprecationWarning)"
   ]
  },
  {
   "cell_type": "code",
   "execution_count": 4,
   "metadata": {},
   "outputs": [
    {
     "name": "stdout",
     "output_type": "stream",
     "text": [
      "interactive mode\n",
      "Namespace(alg='bn', data='alpha', output='-')\n"
     ]
    }
   ],
   "source": [
    "parser = argparse.ArgumentParser(description='heatmap creator')\n",
    "parser.add_argument('-o', '--output', type=str, default='-', action='store', help='target')\n",
    "parser.add_argument('-d', '--data', type=str, default='alpha', choices=['alpha', 'amazon', 'epinions', 'otc'], help='data name')\n",
    "parser.add_argument('-a', '--alg', type=str, default='bad', choices=['bn', 'feagle', 'fraudar', 'trust', 'rsd', 'bad'], help='alg name')\n",
    "\n",
    "if bool(getattr(sys, 'ps1', sys.flags.interactive)):\n",
    "    from tqdm import tqdm_notebook as tqdm\n",
    "    print('interactive mode')\n",
    "    parsed = parser.parse_args(['--data', 'alpha', '--alg', 'bn'])\n",
    "else:\n",
    "    from tqdm import tqdm\n",
    "    print('script mode')\n",
    "    parsed = parser.parse_args(sys.argv[1:])\n",
    "    display=print\n",
    "\n",
    "print(parsed)"
   ]
  },
  {
   "cell_type": "code",
   "execution_count": 5,
   "metadata": {},
   "outputs": [],
   "source": [
    "# alg_list = ['bn', 'feagle', 'fraudar', 'trust', 'rsd', 'bad', 'rev2']\n",
    "alg_list = ['rev2', 'bad', 'bn', 'trust', 'feagle', 'fraudar', 'rsd']\n",
    "# data_list = ['alpha', 'amazon', 'epinions', 'otc']\n",
    "data_list = ['otc', 'alpha', 'epinions', 'amazon']\n",
    "q_range = np.array([0.005, 0.01, 0.03, 0.05, 0.1])\n",
    "met_list = ['f1', 'prec', 'recl']\n",
    "\n",
    "k_range = np.arange(10) / 10\n",
    "n_range = list(range(0, 51, 5))\n",
    "n_range[0] = 1"
   ]
  },
  {
   "cell_type": "code",
   "execution_count": 175,
   "metadata": {},
   "outputs": [
    {
     "name": "stdout",
     "output_type": "stream",
     "text": [
      "../res/bn/eval-alpha.pkl\n"
     ]
    },
    {
     "ename": "KeyError",
     "evalue": "0.005",
     "output_type": "error",
     "traceback": [
      "\u001b[0;31m---------------------------------------------------------------------------\u001b[0m",
      "\u001b[0;31mKeyError\u001b[0m                                  Traceback (most recent call last)",
      "\u001b[0;32m<ipython-input-175-22598a1fd974>\u001b[0m in \u001b[0;36m<module>\u001b[0;34m\u001b[0m\n\u001b[0;32m----> 1\u001b[0;31m \u001b[0mfig\u001b[0m\u001b[0;34m,\u001b[0m \u001b[0mret\u001b[0m\u001b[0;34m,\u001b[0m \u001b[0mret_sc\u001b[0m \u001b[0;34m=\u001b[0m \u001b[0mcreate_heatmaps\u001b[0m\u001b[0;34m(\u001b[0m\u001b[0malg\u001b[0m\u001b[0;34m=\u001b[0m\u001b[0;34m'bn'\u001b[0m\u001b[0;34m,\u001b[0m \u001b[0mdata\u001b[0m\u001b[0;34m=\u001b[0m\u001b[0;34m'alpha'\u001b[0m\u001b[0;34m)\u001b[0m\u001b[0;34m\u001b[0m\u001b[0;34m\u001b[0m\u001b[0m\n\u001b[0m\u001b[1;32m      2\u001b[0m \u001b[0mdisplay\u001b[0m\u001b[0;34m(\u001b[0m\u001b[0mpd\u001b[0m\u001b[0;34m.\u001b[0m\u001b[0mDataFrame\u001b[0m\u001b[0;34m(\u001b[0m\u001b[0mret\u001b[0m\u001b[0;34m)\u001b[0m\u001b[0;34m)\u001b[0m\u001b[0;34m\u001b[0m\u001b[0;34m\u001b[0m\u001b[0m\n\u001b[1;32m      3\u001b[0m \u001b[0mdisplay\u001b[0m\u001b[0;34m(\u001b[0m\u001b[0mpd\u001b[0m\u001b[0;34m.\u001b[0m\u001b[0mDataFrame\u001b[0m\u001b[0;34m(\u001b[0m\u001b[0mret_line\u001b[0m\u001b[0;34m)\u001b[0m\u001b[0;34m)\u001b[0m\u001b[0;34m\u001b[0m\u001b[0;34m\u001b[0m\u001b[0m\n\u001b[1;32m      4\u001b[0m \u001b[0;34m\u001b[0m\u001b[0m\n\u001b[1;32m      5\u001b[0m \u001b[0;31m#fig, ret = create_heatmaps(alg='feagle', data='amazon')\u001b[0m\u001b[0;34m\u001b[0m\u001b[0;34m\u001b[0m\u001b[0;34m\u001b[0m\u001b[0m\n",
      "\u001b[0;32m<ipython-input-44-a5846d6e60d4>\u001b[0m in \u001b[0;36mcreate_heatmaps\u001b[0;34m(alg, data)\u001b[0m\n\u001b[1;32m     37\u001b[0m \u001b[0;34m\u001b[0m\u001b[0m\n\u001b[1;32m     38\u001b[0m         \u001b[0;31m#For scatter charts of worst cases x: q, y: Precision/recall/f1score\u001b[0m\u001b[0;34m\u001b[0m\u001b[0;34m\u001b[0m\u001b[0;34m\u001b[0m\u001b[0m\n\u001b[0;32m---> 39\u001b[0;31m         \u001b[0mret_sc\u001b[0m\u001b[0;34m[\u001b[0m\u001b[0mq_range\u001b[0m\u001b[0;34m[\u001b[0m\u001b[0mq\u001b[0m\u001b[0;34m]\u001b[0m\u001b[0;34m]\u001b[0m\u001b[0;34m[\u001b[0m\u001b[0;34m'f1'\u001b[0m\u001b[0;34m]\u001b[0m \u001b[0;34m=\u001b[0m \u001b[0mr1\u001b[0m\u001b[0;34m[\u001b[0m\u001b[0;36m0\u001b[0m\u001b[0;34m]\u001b[0m\u001b[0;34m\u001b[0m\u001b[0;34m\u001b[0m\u001b[0m\n\u001b[0m\u001b[1;32m     40\u001b[0m         \u001b[0mret_sc\u001b[0m\u001b[0;34m[\u001b[0m\u001b[0mq_range\u001b[0m\u001b[0;34m[\u001b[0m\u001b[0mq\u001b[0m\u001b[0;34m]\u001b[0m\u001b[0;34m]\u001b[0m\u001b[0;34m[\u001b[0m\u001b[0;34m'prec'\u001b[0m\u001b[0;34m]\u001b[0m \u001b[0;34m=\u001b[0m \u001b[0mr2\u001b[0m\u001b[0;34m[\u001b[0m\u001b[0;36m0\u001b[0m\u001b[0;34m]\u001b[0m\u001b[0;34m\u001b[0m\u001b[0;34m\u001b[0m\u001b[0m\n\u001b[1;32m     41\u001b[0m         \u001b[0mret_sc\u001b[0m\u001b[0;34m[\u001b[0m\u001b[0mq_range\u001b[0m\u001b[0;34m[\u001b[0m\u001b[0mq\u001b[0m\u001b[0;34m]\u001b[0m\u001b[0;34m]\u001b[0m\u001b[0;34m[\u001b[0m\u001b[0;34m'recl'\u001b[0m\u001b[0;34m]\u001b[0m \u001b[0;34m=\u001b[0m \u001b[0mr2\u001b[0m\u001b[0;34m[\u001b[0m\u001b[0;36m0\u001b[0m\u001b[0;34m]\u001b[0m\u001b[0;34m\u001b[0m\u001b[0;34m\u001b[0m\u001b[0m\n",
      "\u001b[0;31mKeyError\u001b[0m: 0.005"
     ]
    },
    {
     "data": {
      "image/png": "[encoded data removed]",
      "text/plain": [
       "<Figure size 720x216 with 3 Axes>"
      ]
     },
     "metadata": {
      "needs_background": "light"
     },
     "output_type": "display_data"
    }
   ],
   "source": [
    "fig, ret, ret_sc = create_heatmaps(alg='bn', data='alpha')\n",
    "display(pd.DataFrame(ret))\n",
    "display(pd.DataFrame(ret_line))\n",
    "\n",
    "#fig, ret = create_heatmaps(alg='feagle', data='amazon')\n",
    "#display(pd.DataFrame(ret))\n",
    "#fig, ret = create_heatmaps(alg='trust', data='otc')\n",
    "#display(pd.DataFrame(ret))"
   ]
  },
  {
   "cell_type": "code",
   "execution_count": null,
   "metadata": {},
   "outputs": [],
   "source": []
  },
  {
   "cell_type": "code",
   "execution_count": 6,
   "metadata": {
    "scrolled": false
   },
   "outputs": [
    {
     "name": "stdout",
     "output_type": "stream",
     "text": [
      "rev2 otc\n",
      "rev2 alpha\n",
      "no ../res/rev2/eval-epinions.pkl\n",
      "no ../res/rev2/eval-amazon.pkl\n",
      "bad otc\n",
      "bad alpha\n",
      "bad epinions\n",
      "bad amazon\n",
      "bn otc\n",
      "bn alpha\n",
      "bn epinions\n",
      "bn amazon\n",
      "trust otc\n",
      "trust alpha\n",
      "trust epinions\n",
      "trust amazon\n",
      "feagle otc\n",
      "feagle alpha\n",
      "feagle epinions\n",
      "feagle amazon\n",
      "fraudar otc\n",
      "fraudar alpha\n",
      "fraudar epinions\n",
      "fraudar amazon\n",
      "rsd otc\n",
      "rsd alpha\n",
      "rsd epinions\n",
      "rsd amazon\n"
     ]
    },
    {
     "data": {
      "text/plain": [
       "{0: {'f1': {}, 'prec': {}, 'recl': {}},\n",
       " 1: {'f1': {}, 'prec': {}, 'recl': {}},\n",
       " 2: {'f1': {}, 'prec': {}, 'recl': {}},\n",
       " 3: {'f1': {}, 'prec': {}, 'recl': {}},\n",
       " 4: {'f1': {}, 'prec': {}, 'recl': {}},\n",
       " 5: {'f1': {}, 'prec': {}, 'recl': {}},\n",
       " 6: {'f1': {}, 'prec': {}, 'recl': {}}}"
      ]
     },
     "execution_count": 6,
     "metadata": {},
     "output_type": "execute_result"
    }
   ],
   "source": [
    "from collections import defaultdict\n",
    "\n",
    "data_list = ['otc','alpha','epinions','amazon']\n",
    "alg_list = ['rev2', 'bad', 'bn', 'trust', 'feagle', 'fraudar', 'rsd']\n",
    "markers = [\"o\", \"v\", \"8\", \"s\", \"P\", \"*\", \"+\"]\n",
    "\n",
    "def compute_uchange():     #fig, ax, plot_data, title=''\n",
    "    \n",
    "    u_change_dict = {}     #u_change_dict[alg_id][met][q] = average_uchange = sum of u_change / # of valid dataset\n",
    "    \n",
    "    for alg_id in range(len(alg_list)): \n",
    "        u_change_dict[alg_id] = {}     \n",
    "        for met in met_list:\n",
    "            u_change_dict[alg_id][met] = {}\n",
    "            \n",
    "        for data in data_list:         \n",
    "            eval_path = '../res/%s/eval-%s.pkl' %(alg_list[alg_id], data)                            \n",
    "            try:\n",
    "                with open(eval_path, 'rb') as fp:\n",
    "                    metrics_dict = pickle.load(fp)\n",
    "            except FileNotFoundError:\n",
    "                print(\"no ../res/%s/eval-%s.pkl\" %(alg_list[alg_id], data))\n",
    "                continue\n",
    "            \n",
    "            print(alg_list[alg_id], data)\n",
    "            \n",
    "            eval_path = '../res/%s/res-%s.pkl' %(alg_list[alg_id], data)\n",
    "            try:\n",
    "                with open(eval_path, 'rb') as fp:\n",
    "                    results_dict = pickle.load(fp)\n",
    "            except FileNotFoundError:\n",
    "                print(\"no ../res/%s/eval-%s.pkl\" %(alg_list[alg_id], data))\n",
    "                continue    \n",
    "            \n",
    "            q_dict = {}\n",
    "            for q in range(5):\n",
    "                heat_dict = {'f1': np.empty([10, 11]), 'prec': np.empty([10, 11]), 'recl': np.empty([10, 11])}\n",
    "                try:\n",
    "                    for k, n in itertools.product(range(10), range(11)):\n",
    "                        ytrue = np.mean([results_dict[(k, n_range[n], ind)]['ytrue'] for ind in range(50)]);\n",
    "                        yscore = np.mean([results_dict[(k, n_range[n], ind)]['yscore'] for ind in range(50)]);\n",
    "                        size = len(ytrue);\n",
    "                        \n",
    "                        cut = q_range(q) * size;\n",
    "                        ypred = (np.arange(size) < cut) * 1\n",
    "                        \n",
    "                        total = 0\n",
    "                        for id in range(size):\n",
    "                            if ypred[id] == 1:\n",
    "                                total += 1\n",
    "                                if ytrue[id] == 1:\n",
    "                                    truepos += 1\n",
    "                        prec = truepos / total\n",
    "                        heat_dict['prec'][k, n] = prec\n",
    "             \n",
    "                        heat_dict['f1'][k, n] = np.mean([metrics_dict[(k, n_range[n], ind)]['f1'][q_range[q]] for ind in range(50)])\n",
    "                       ## heat_dict['prec'][k, n] = np.mean([metrics_dict[(k, n_range[n], ind)]['prec'][q_range[q]] for ind in range(50)])\n",
    "                        heat_dict['recl'][k, n] = np.mean([metrics_dict[(k, n_range[n], ind)]['recl'][q_range[q]] for ind in range(50)])\n",
    "                    q_dict[q] = heat_dict   \n",
    "                except TypeError:\n",
    "#                    print(\"TypeError Here !\")\n",
    "                    continue\n",
    "            \n",
    "            for q in range(5):  \n",
    "                for met in met_list:\n",
    "                    try:\n",
    "                        # div = 0\n",
    "                        u_new = q_dict[q][met][1:, :].min()\n",
    "                        u_old = q_dict[q][met][0, :].mean()\n",
    "\n",
    "                        k_new, n_new = np.unravel_index(q_dict[q][met][1:, :].argmin(), q_dict[q][met][1:, :].shape)                \n",
    "                        k_new += 1\n",
    "\n",
    "                        u_change = (u_new - u_old) / u_old\n",
    "                        u_change_dict[alg_id][met][q] = u_change_dict[alg_id][met].get(q, 0) + u_change\n",
    "                        # div += 1\n",
    "               \n",
    "                    except KeyError:\n",
    "                        # print(\"KeyError !!!!\")\n",
    "                        # div -= 1\n",
    "                        continue\n",
    "        \n",
    "                    u_change_dict[alg_id][met][q] /= 5\n",
    "                    \n",
    "                     \n",
    "    return u_change_dict\n",
    "    \n",
    "compute_uchange()\n"
   ]
  },
  {
   "cell_type": "code",
   "execution_count": 7,
   "metadata": {},
   "outputs": [
    {
     "name": "stdout",
     "output_type": "stream",
     "text": [
      "rev2 otc\n",
      "rev2 alpha\n",
      "no ../res/rev2/eval-epinions.pkl\n",
      "no ../res/rev2/eval-amazon.pkl\n",
      "bad otc\n",
      "bad alpha\n",
      "bad epinions\n",
      "bad amazon\n",
      "bn otc\n",
      "bn alpha\n",
      "bn epinions\n",
      "bn amazon\n",
      "trust otc\n",
      "trust alpha\n",
      "trust epinions\n",
      "trust amazon\n",
      "feagle otc\n",
      "feagle alpha\n",
      "feagle epinions\n",
      "feagle amazon\n",
      "fraudar otc\n",
      "fraudar alpha\n",
      "fraudar epinions\n",
      "fraudar amazon\n",
      "rsd otc\n",
      "rsd alpha\n",
      "rsd epinions\n",
      "rsd amazon\n"
     ]
    },
    {
     "ename": "ValueError",
     "evalue": "x and y must be the same size",
     "output_type": "error",
     "traceback": [
      "\u001b[0;31m---------------------------------------------------------------------------\u001b[0m",
      "\u001b[0;31mValueError\u001b[0m                                Traceback (most recent call last)",
      "\u001b[0;32m<ipython-input-7-a34f15a1880b>\u001b[0m in \u001b[0;36m<module>\u001b[0;34m\u001b[0m\n\u001b[1;32m     27\u001b[0m                 fontsize=8)\n\u001b[1;32m     28\u001b[0m \u001b[0;34m\u001b[0m\u001b[0m\n\u001b[0;32m---> 29\u001b[0;31m \u001b[0mplot_scatters\u001b[0m\u001b[0;34m(\u001b[0m\u001b[0;34m)\u001b[0m\u001b[0;34m\u001b[0m\u001b[0;34m\u001b[0m\u001b[0m\n\u001b[0m\u001b[1;32m     30\u001b[0m \u001b[0;34m\u001b[0m\u001b[0m\n\u001b[1;32m     31\u001b[0m \u001b[0;31m#plot_scatterplots('bn', 'otc')\u001b[0m\u001b[0;34m\u001b[0m\u001b[0;34m\u001b[0m\u001b[0;34m\u001b[0m\u001b[0m\n",
      "\u001b[0;32m<ipython-input-7-a34f15a1880b>\u001b[0m in \u001b[0;36mplot_scatters\u001b[0;34m()\u001b[0m\n\u001b[1;32m     11\u001b[0m         \u001b[0;32mfor\u001b[0m \u001b[0malg_id\u001b[0m \u001b[0;32min\u001b[0m \u001b[0mrange\u001b[0m\u001b[0;34m(\u001b[0m\u001b[0mlen\u001b[0m\u001b[0;34m(\u001b[0m\u001b[0malg_list\u001b[0m\u001b[0;34m)\u001b[0m\u001b[0;34m)\u001b[0m\u001b[0;34m:\u001b[0m\u001b[0;34m\u001b[0m\u001b[0;34m\u001b[0m\u001b[0m\n\u001b[1;32m     12\u001b[0m \u001b[0;34m\u001b[0m\u001b[0m\n\u001b[0;32m---> 13\u001b[0;31m             \u001b[0max\u001b[0m\u001b[0;34m.\u001b[0m\u001b[0mscatter\u001b[0m\u001b[0;34m(\u001b[0m\u001b[0mq_range\u001b[0m\u001b[0;34m,\u001b[0m  \u001b[0mlist\u001b[0m\u001b[0;34m(\u001b[0m\u001b[0mu_change_dict\u001b[0m\u001b[0;34m[\u001b[0m\u001b[0malg_id\u001b[0m\u001b[0;34m]\u001b[0m\u001b[0;34m[\u001b[0m\u001b[0mmet\u001b[0m\u001b[0;34m]\u001b[0m\u001b[0;34m.\u001b[0m\u001b[0mvalues\u001b[0m\u001b[0;34m(\u001b[0m\u001b[0;34m)\u001b[0m\u001b[0;34m)\u001b[0m\u001b[0;34m,\u001b[0m \u001b[0mmarker\u001b[0m\u001b[0;34m=\u001b[0m \u001b[0mmarkers\u001b[0m\u001b[0;34m[\u001b[0m\u001b[0malg_id\u001b[0m\u001b[0;34m]\u001b[0m\u001b[0;34m)\u001b[0m\u001b[0;34m\u001b[0m\u001b[0;34m\u001b[0m\u001b[0m\n\u001b[0m\u001b[1;32m     14\u001b[0m \u001b[0;34m\u001b[0m\u001b[0m\n\u001b[1;32m     15\u001b[0m             \u001b[0max\u001b[0m\u001b[0;34m.\u001b[0m\u001b[0mset_yticks\u001b[0m\u001b[0;34m(\u001b[0m\u001b[0;34m[\u001b[0m \u001b[0;34m-\u001b[0m\u001b[0;36m0.2\u001b[0m\u001b[0;34m,\u001b[0m \u001b[0;36m0\u001b[0m\u001b[0;34m,\u001b[0m \u001b[0;36m0.2\u001b[0m\u001b[0;34m,\u001b[0m \u001b[0;36m0.4\u001b[0m\u001b[0;34m]\u001b[0m\u001b[0;34m)\u001b[0m \u001b[0;31m# -0.6, -0.4,-1.0, -0.8,, 0.6, 0.8, 1.0])\u001b[0m\u001b[0;34m\u001b[0m\u001b[0;34m\u001b[0m\u001b[0m\n",
      "\u001b[0;32m~/anaconda3/lib/python3.7/site-packages/matplotlib/__init__.py\u001b[0m in \u001b[0;36minner\u001b[0;34m(ax, data, *args, **kwargs)\u001b[0m\n\u001b[1;32m   1808\u001b[0m                         \u001b[0;34m\"the Matplotlib list!)\"\u001b[0m \u001b[0;34m%\u001b[0m \u001b[0;34m(\u001b[0m\u001b[0mlabel_namer\u001b[0m\u001b[0;34m,\u001b[0m \u001b[0mfunc\u001b[0m\u001b[0;34m.\u001b[0m\u001b[0m__name__\u001b[0m\u001b[0;34m)\u001b[0m\u001b[0;34m,\u001b[0m\u001b[0;34m\u001b[0m\u001b[0;34m\u001b[0m\u001b[0m\n\u001b[1;32m   1809\u001b[0m                         RuntimeWarning, stacklevel=2)\n\u001b[0;32m-> 1810\u001b[0;31m             \u001b[0;32mreturn\u001b[0m \u001b[0mfunc\u001b[0m\u001b[0;34m(\u001b[0m\u001b[0max\u001b[0m\u001b[0;34m,\u001b[0m \u001b[0;34m*\u001b[0m\u001b[0margs\u001b[0m\u001b[0;34m,\u001b[0m \u001b[0;34m**\u001b[0m\u001b[0mkwargs\u001b[0m\u001b[0;34m)\u001b[0m\u001b[0;34m\u001b[0m\u001b[0;34m\u001b[0m\u001b[0m\n\u001b[0m\u001b[1;32m   1811\u001b[0m \u001b[0;34m\u001b[0m\u001b[0m\n\u001b[1;32m   1812\u001b[0m         inner.__doc__ = _add_data_doc(inner.__doc__,\n",
      "\u001b[0;32m~/anaconda3/lib/python3.7/site-packages/matplotlib/axes/_axes.py\u001b[0m in \u001b[0;36mscatter\u001b[0;34m(self, x, y, s, c, marker, cmap, norm, vmin, vmax, alpha, linewidths, verts, edgecolors, **kwargs)\u001b[0m\n\u001b[1;32m   4180\u001b[0m         \u001b[0my\u001b[0m \u001b[0;34m=\u001b[0m \u001b[0mnp\u001b[0m\u001b[0;34m.\u001b[0m\u001b[0mma\u001b[0m\u001b[0;34m.\u001b[0m\u001b[0mravel\u001b[0m\u001b[0;34m(\u001b[0m\u001b[0my\u001b[0m\u001b[0;34m)\u001b[0m\u001b[0;34m\u001b[0m\u001b[0;34m\u001b[0m\u001b[0m\n\u001b[1;32m   4181\u001b[0m         \u001b[0;32mif\u001b[0m \u001b[0mx\u001b[0m\u001b[0;34m.\u001b[0m\u001b[0msize\u001b[0m \u001b[0;34m!=\u001b[0m \u001b[0my\u001b[0m\u001b[0;34m.\u001b[0m\u001b[0msize\u001b[0m\u001b[0;34m:\u001b[0m\u001b[0;34m\u001b[0m\u001b[0;34m\u001b[0m\u001b[0m\n\u001b[0;32m-> 4182\u001b[0;31m             \u001b[0;32mraise\u001b[0m \u001b[0mValueError\u001b[0m\u001b[0;34m(\u001b[0m\u001b[0;34m\"x and y must be the same size\"\u001b[0m\u001b[0;34m)\u001b[0m\u001b[0;34m\u001b[0m\u001b[0;34m\u001b[0m\u001b[0m\n\u001b[0m\u001b[1;32m   4183\u001b[0m \u001b[0;34m\u001b[0m\u001b[0m\n\u001b[1;32m   4184\u001b[0m         \u001b[0;32mif\u001b[0m \u001b[0ms\u001b[0m \u001b[0;32mis\u001b[0m \u001b[0;32mNone\u001b[0m\u001b[0;34m:\u001b[0m\u001b[0;34m\u001b[0m\u001b[0;34m\u001b[0m\u001b[0m\n",
      "\u001b[0;31mValueError\u001b[0m: x and y must be the same size"
     ]
    },
    {
     "data": {
      "image/png": "[encoded data removed]",
      "text/plain": [
       "<Figure size 432x576 with 1 Axes>"
      ]
     },
     "metadata": {
      "needs_background": "light"
     },
     "output_type": "display_data"
    }
   ],
   "source": [
    "markers = [\"o\", \"v\", \">\", \"s\", \"P\", \"D\", \"x\"]\n",
    "def plot_scatters():\n",
    "    \n",
    "    u_change_dict = compute_uchange() \n",
    "    \n",
    "    for i in range(3):        # ['f1', 'prec', 'recl']\n",
    "        fig = plt.figure(i + 1, figsize=(6,8))     \n",
    "        ax = fig.add_subplot(111)\n",
    "\n",
    "        met = met_list[i]\n",
    "        for alg_id in range(len(alg_list)):\n",
    "        \n",
    "            ax.scatter(q_range,  list(u_change_dict[alg_id][met].values()), marker= markers[alg_id]) \n",
    "\n",
    "            ax.set_yticks([ -0.2, 0, 0.2, 0.4]) # -0.6, -0.4,-1.0, -0.8,, 0.6, 0.8, 1.0])\n",
    "            ax.set_yticklabels([ -0.2, 0, 0.2, 0.4]) #-0.6, -0.4,,-1.0, -0.8,, 0.6, 0.8, 1.0])\n",
    "\n",
    "            ax.set_xticks(q_range)\n",
    "            ax.set_xticklabels(q_range)\n",
    "\n",
    "            ax.set_xlabel('q: percetange classified as fraud')\n",
    "            ax.set_ylabel('%s change' %met)\n",
    "            \n",
    "            ax.legend(\n",
    "                loc='lower left',\n",
    "                ncol=3,\n",
    "                fontsize=8)\n",
    "\n",
    "plot_scatters()\n",
    "\n",
    "#plot_scatterplots('bn', 'otc')\n",
    "#plot_scatterplots('bn', 'amazon')\n",
    "# plot_scatterplots('bn', 'epinions')\n",
    "# plot_scatterplots('rsd', 'epinions')\n",
    "#plot_scatterplots('fraudar', 'alpha')"
   ]
  },
  {
   "cell_type": "code",
   "execution_count": 47,
   "metadata": {},
   "outputs": [
    {
     "name": "stdout",
     "output_type": "stream",
     "text": [
      "rev2 otc\n",
      "rev2 alpha\n",
      "rev2 epinions\n",
      "rev2 amazon\n",
      "bad otc\n",
      "bad alpha\n",
      "bad epinions\n",
      "bad amazon\n",
      "bn otc\n",
      "bn alpha\n",
      "bn epinions\n",
      "bn amazon\n",
      "trust otc\n",
      "trust alpha\n",
      "trust epinions\n",
      "trust amazon\n",
      "feagle otc\n",
      "feagle alpha\n",
      "feagle epinions\n",
      "feagle amazon\n",
      "fraudar otc\n",
      "fraudar alpha\n",
      "fraudar epinions\n",
      "fraudar amazon\n",
      "rsd otc\n",
      "rsd alpha\n",
      "rsd epinions\n",
      "rsd amazon\n"
     ]
    }
   ],
   "source": [
    "reports = {met: {q: {alg: {data: {} for data in data_list} for alg in alg_list} for q in q_range} for met in met_list}\n",
    "\n",
    "for alg in alg_list:\n",
    "    for data in data_list:\n",
    "        print(alg, data)\n",
    "        \n",
    "        "
   ]
  },
  {
   "cell_type": "code",
   "execution_count": 12,
   "metadata": {},
   "outputs": [
    {
     "name": "stdout",
     "output_type": "stream",
     "text": [
      "rev2 otc\n",
      "../res/rev2/eval-otc.pkl\n",
      "rev2 otc not exists\n",
      "rev2 alpha\n",
      "../res/rev2/eval-alpha.pkl\n",
      "rev2 epinions\n",
      "../res/rev2/eval-epinions.pkl\n",
      "rev2 epinions not exists\n",
      "rev2 amazon\n",
      "../res/rev2/eval-amazon.pkl\n",
      "rev2 amazon not exists\n",
      "bad otc\n",
      "../res/bad/eval-otc.pkl\n",
      "bad alpha\n",
      "../res/bad/eval-alpha.pkl\n",
      "bad epinions\n",
      "../res/bad/eval-epinions.pkl\n",
      "bad epinions not exists\n",
      "bad amazon\n",
      "../res/bad/eval-amazon.pkl\n",
      "bn otc\n",
      "../res/bn/eval-otc.pkl\n",
      "bn alpha\n",
      "../res/bn/eval-alpha.pkl\n",
      "bn epinions\n",
      "../res/bn/eval-epinions.pkl\n",
      "bn epinions not exists\n",
      "bn amazon\n",
      "../res/bn/eval-amazon.pkl\n",
      "trust otc\n",
      "../res/trust/eval-otc.pkl\n",
      "trust alpha\n",
      "../res/trust/eval-alpha.pkl\n",
      "trust epinions\n",
      "../res/trust/eval-epinions.pkl\n",
      "trust epinions not exists\n",
      "trust amazon\n",
      "../res/trust/eval-amazon.pkl\n",
      "trust amazon not exists\n",
      "feagle otc\n",
      "../res/feagle/eval-otc.pkl\n",
      "feagle alpha\n",
      "../res/feagle/eval-alpha.pkl\n",
      "feagle epinions\n",
      "../res/feagle/eval-epinions.pkl\n",
      "feagle epinions not exists\n",
      "feagle amazon\n",
      "../res/feagle/eval-amazon.pkl\n",
      "fraudar otc\n",
      "../res/fraudar/eval-otc.pkl\n",
      "fraudar alpha\n",
      "../res/fraudar/eval-alpha.pkl\n",
      "fraudar epinions\n",
      "../res/fraudar/eval-epinions.pkl\n",
      "fraudar epinions not exists\n",
      "fraudar amazon\n",
      "../res/fraudar/eval-amazon.pkl\n",
      "fraudar amazon not exists\n",
      "rsd otc\n",
      "../res/rsd/eval-otc.pkl\n",
      "rsd alpha\n",
      "../res/rsd/eval-alpha.pkl\n",
      "rsd epinions\n",
      "../res/rsd/eval-epinions.pkl\n",
      "rsd epinions not exists\n",
      "rsd amazon\n",
      "../res/rsd/eval-amazon.pkl\n",
      "rsd amazon not exists\n",
      "f1 0.005\n",
      "f1 0.01\n",
      "f1 0.03\n",
      "f1 0.05\n",
      "f1 0.1\n",
      "prec 0.005\n",
      "prec 0.01\n",
      "prec 0.03\n",
      "prec 0.05\n",
      "prec 0.1\n",
      "recl 0.005\n",
      "recl 0.01\n",
      "recl 0.03\n",
      "recl 0.05\n",
      "recl 0.1\n"
     ]
    }
   ],
   "source": [
    "reports = {met: {q: {alg: {data: {} for data in data_list} for alg in alg_list} for q in q_range} for met in met_list}\n",
    "\n",
    "for alg in alg_list:\n",
    "    for data in data_list:\n",
    "        print(alg, data)\n",
    "        figs, ret = create_heatmaps(alg, data)\n",
    "        if figs != None:\n",
    "            for i in range(len(figs)):\n",
    "                fig = figs[i]\n",
    "                fig.savefig('../res/heatmaps/%s-%s-%d.pdf' %(alg, data, i))\n",
    "        plt.close('all')\n",
    "        # pd.DataFrame(ret).to_csv('../res/heatmaps/%s-%s.csv' %(alg, data))\n",
    "        for q in q_range:\n",
    "            for met in met_list:\n",
    "                if ret[q][met] != None:\n",
    "                    reports[met][q][alg][data] = 'change=%.3f \\n k=%.2f \\n n=%d' %tuple(ret[q][met])\n",
    "                else:\n",
    "                    reports[met][q][alg][data] = ''\n",
    "\n",
    "for met in met_list:\n",
    "    for q in q_range:\n",
    "        print(met, q)\n",
    "        pd.DataFrame(reports[met][q]).to_csv('../res/heatmaps/%s-%.3f.csv' %(met, q))"
   ]
  }
 ],
 "metadata": {
  "kernelspec": {
   "display_name": "Python 3",
   "language": "python",
   "name": "python3"
  },
  "language_info": {
   "codemirror_mode": {
    "name": "ipython",
    "version": 3
   },
   "file_extension": ".py",
   "mimetype": "text/x-python",
   "name": "python",
   "nbconvert_exporter": "python",
   "pygments_lexer": "ipython3",
   "version": "3.7.1"
  }
 },
 "nbformat": 4,
 "nbformat_minor": 2
}
