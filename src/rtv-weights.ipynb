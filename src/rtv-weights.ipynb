{
 "cells": [
  {
   "cell_type": "code",
   "execution_count": 50,
   "metadata": {},
   "outputs": [],
   "source": [
    "import os, sys, argparse\n",
    "import pandas as pd\n",
    "import numpy as np\n",
    "\n",
    "import pickle\n",
    "import itertools\n",
    "\n",
    "import matplotlib.pyplot as plt\n",
    "import seaborn as sns\n",
    "\n",
    "import numba\n",
    "import sklearn\n",
    "import sklearn.ensemble\n",
    "import sklearn.metrics\n",
    "import sklearn.naive_bayes\n",
    "import sklearn.linear_model\n",
    "import xgboost\n",
    "\n",
    "import warnings\n",
    "# warnings.filterwarnings(action='ignore')"
   ]
  },
  {
   "cell_type": "code",
   "execution_count": 65,
   "metadata": {},
   "outputs": [
    {
     "name": "stdout",
     "output_type": "stream",
     "text": [
      "interactive mode\n",
      "Namespace(data='otc', tnum=100, vnum=500)\n"
     ]
    }
   ],
   "source": [
    "parser = argparse.ArgumentParser(description='non socks rtv')\n",
    "parser.add_argument('-d', '--data', type=str, default='alpha', choices=['alpha', 'amazon', 'epinions', 'otc'], help='data name', required=True)\n",
    "parser.add_argument('-t', '--tnum', type=int, default=100, help='trusted size')\n",
    "parser.add_argument('-v', '--vnum', type=int, default=500, help='verified size')\n",
    "\n",
    "if bool(getattr(sys, 'ps1', sys.flags.interactive)):\n",
    "    from tqdm import tqdm_notebook as tqdm\n",
    "    print('interactive mode')\n",
    "    parsed = parser.parse_args(['--d', 'otc', '--tnum', '100', '--vnum', '500'])\n",
    "else:\n",
    "    from tqdm import tqdm\n",
    "    print('script mode')\n",
    "    parsed = parser.parse_args(sys.argv[1:])\n",
    "    display=print\n",
    "\n",
    "print(parsed)\n",
    "\n",
    "dname = parsed.data\n",
    "tnum = parsed.tnum\n",
    "vnum = parsed.vnum"
   ]
  },
  {
   "cell_type": "code",
   "execution_count": 66,
   "metadata": {},
   "outputs": [],
   "source": [
    "a1_list = range(1, 4)\n",
    "a2_list = range(1, 4)\n",
    "\n",
    "b1_list = range(1, 4)\n",
    "b2_list = range(1, 4)\n",
    "\n",
    "g1_list = range(20, 100, 20)\n",
    "g2_list = range(10, 20, 5)\n",
    "g3_list = range(1, 10, 5)\n",
    "g4_list = range(1, 10, 5)\n",
    "\n",
    "template = '../res/non-socks/rtv-%s-%d-%d-%d-%d-%d-%d-%d-%d.csv'\n",
    "maxiter = 30\n",
    "\n",
    "flist = []\n",
    "for a1, a2 in itertools.product(a1_list, a2_list):\n",
    "    if a1 == a2 != 1:\n",
    "        continue\n",
    "    for b1, b2 in itertools.product(b1_list, b2_list):\n",
    "        if b1 == b2 != 1:\n",
    "            continue\n",
    "        for g1, g2, g3, g4 in itertools.product(g1_list, g2_list, g3_list, g4_list):\n",
    "            if g3 == g4 != 1:\n",
    "                continue\n",
    "            flist += [template %(dname, a1, a2, b1, b2, g1, g2, g3, g4)]"
   ]
  },
  {
   "cell_type": "code",
   "execution_count": 67,
   "metadata": {},
   "outputs": [
    {
     "name": "stdout",
     "output_type": "stream",
     "text": [
      "535 / 1176\n"
     ]
    }
   ],
   "source": [
    "exist_list = [os.path.exists(f) for f in flist]\n",
    "print('{} / {}'.format(sum(exist_list), len(exist_list)))"
   ]
  },
  {
   "cell_type": "code",
   "execution_count": 68,
   "metadata": {},
   "outputs": [
    {
     "name": "stdout",
     "output_type": "stream",
     "text": [
      "641\n"
     ]
    }
   ],
   "source": [
    "df = pd.read_csv(flist[0], header=None)\n",
    "ulist = df[1].tolist()\n",
    "ytrue_old = df[0].tolist()\n",
    "ytrue = [0 if ytrue_old[i] == 1 else 2 if ulist[i][0] == 's' else 1 for i in range(len(ytrue_old))]\n",
    "u_sum = {u: [] for u in ulist}\n",
    "\n",
    "miss_cnt = 0\n",
    "for f in flist:\n",
    "    try:\n",
    "        try_df = pd.read_csv(f, header=None)\n",
    "        s = dict(zip(try_df[1].tolist(), try_df[2].tolist()))\n",
    "        for u in u_sum:\n",
    "            u_sum[u] += [s[u]]\n",
    "    except:\n",
    "        miss_cnt += 1\n",
    "\n",
    "print(miss_cnt)"
   ]
  },
  {
   "cell_type": "code",
   "execution_count": 69,
   "metadata": {},
   "outputs": [],
   "source": [
    "y = np.array(ytrue)\n",
    "X = np.array([u_sum[u] for u in ulist])"
   ]
  },
  {
   "cell_type": "code",
   "execution_count": 70,
   "metadata": {},
   "outputs": [],
   "source": [
    "outfile = '../res/non-socks/rtv-%s.csv' %dname"
   ]
  },
  {
   "cell_type": "code",
   "execution_count": 71,
   "metadata": {},
   "outputs": [],
   "source": [
    "models = {\n",
    "    'rf': sklearn.ensemble.RandomForestClassifier(n_estimators=100),\n",
    "    'xgb': xgboost.XGBClassifier(n_estimators=100),\n",
    "    'nb': sklearn.naive_bayes.BernoulliNB(),\n",
    "    'log': sklearn.linear_model.LogisticRegression(solver='lbfgs'),\n",
    "}"
   ]
  },
  {
   "cell_type": "code",
   "execution_count": 72,
   "metadata": {},
   "outputs": [],
   "source": [
    "score = sklearn.model_selection.cross_val_predict(estimator=models['log'], X=X, y=y, cv=10, method='predict_proba')"
   ]
  },
  {
   "cell_type": "code",
   "execution_count": 73,
   "metadata": {},
   "outputs": [
    {
     "data": {
      "text/html": [
       "<div>\n",
       "<style scoped>\n",
       "    .dataframe tbody tr th:only-of-type {\n",
       "        vertical-align: middle;\n",
       "    }\n",
       "\n",
       "    .dataframe tbody tr th {\n",
       "        vertical-align: top;\n",
       "    }\n",
       "\n",
       "    .dataframe thead th {\n",
       "        text-align: right;\n",
       "    }\n",
       "</style>\n",
       "<table border=\"1\" class=\"dataframe\">\n",
       "  <thead>\n",
       "    <tr style=\"text-align: right;\">\n",
       "      <th></th>\n",
       "      <th>0</th>\n",
       "      <th>1</th>\n",
       "      <th>2</th>\n",
       "    </tr>\n",
       "  </thead>\n",
       "  <tbody>\n",
       "    <tr>\n",
       "      <th>0</th>\n",
       "      <td>-1</td>\n",
       "      <td>u905</td>\n",
       "      <td>0.996581</td>\n",
       "    </tr>\n",
       "    <tr>\n",
       "      <th>1</th>\n",
       "      <td>1</td>\n",
       "      <td>u1565</td>\n",
       "      <td>0.987584</td>\n",
       "    </tr>\n",
       "    <tr>\n",
       "      <th>2</th>\n",
       "      <td>1</td>\n",
       "      <td>u1334</td>\n",
       "      <td>0.990841</td>\n",
       "    </tr>\n",
       "    <tr>\n",
       "      <th>3</th>\n",
       "      <td>1</td>\n",
       "      <td>u2045</td>\n",
       "      <td>0.990927</td>\n",
       "    </tr>\n",
       "    <tr>\n",
       "      <th>4</th>\n",
       "      <td>1</td>\n",
       "      <td>v1</td>\n",
       "      <td>0.995152</td>\n",
       "    </tr>\n",
       "  </tbody>\n",
       "</table>\n",
       "</div>"
      ],
      "text/plain": [
       "    0      1         2\n",
       "0  -1   u905  0.996581\n",
       "1   1  u1565  0.987584\n",
       "2   1  u1334  0.990841\n",
       "3   1  u2045  0.990927\n",
       "4   1     v1  0.995152"
      ]
     },
     "metadata": {},
     "output_type": "display_data"
    }
   ],
   "source": [
    "df = pd.DataFrame([ytrue_old, ulist, score[:, 0]]).T\n",
    "display(df.head())\n",
    "df.to_csv(outfile, header=False, index=False)"
   ]
  }
 ],
 "metadata": {
  "kernelspec": {
   "display_name": "Python 3",
   "language": "python",
   "name": "python3"
  },
  "language_info": {
   "codemirror_mode": {
    "name": "ipython",
    "version": 3
   },
   "file_extension": ".py",
   "mimetype": "text/x-python",
   "name": "python",
   "nbconvert_exporter": "python",
   "pygments_lexer": "ipython3",
   "version": "3.7.2"
  }
 },
 "nbformat": 4,
 "nbformat_minor": 2
}
