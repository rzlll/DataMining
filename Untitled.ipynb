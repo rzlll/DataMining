{
 "cells": [
  {
   "cell_type": "code",
   "execution_count": 1,
   "metadata": {},
   "outputs": [],
   "source": [
    "import os, sys, argparse\n",
    "import pandas as pd\n",
    "import numpy as np\n",
    "\n",
    "import pickle\n",
    "import itertools\n",
    "\n",
    "import matplotlib.pyplot as plt\n",
    "import seaborn as sns\n",
    "\n",
    "import warnings"
   ]
  },
  {
   "cell_type": "code",
   "execution_count": 11,
   "metadata": {},
   "outputs": [],
   "source": [
    "# alg_list = ['bn', 'feagle', 'fraudar', 'trust', 'rsd', 'bad', 'rev2']\n",
    "alg_list = ['rev2', 'bad', 'bn', 'trust', 'feagle', 'fraudar', 'rsd','rtv_unsup','rtv_sup']\n",
    "# data_list = ['alpha', 'amazon', 'epinions', 'otc']\n",
    "data_list = ['otc', 'alpha', 'epinions', 'amazon']\n",
    "q_range = np.array([0.005, 0.01, 0.03, 0.05])\n",
    "met_list = ['f1', 'prec', 'recl']\n",
    "\n",
    "k_range = np.arange(10) / 10\n",
    "n_range = list(range(0, 51, 5))\n",
    "n_range[0] = 1\n"
   ]
  },
  {
   "cell_type": "code",
   "execution_count": 75,
   "metadata": {},
   "outputs": [],
   "source": [
    "def plot_scatters():\n",
    "    markers = [\"o\", \"v\", \">\", \"s\", \"P\", \"D\", \"x\",\"4\",\"1\"]\n",
    "    \n",
    "    f1_dic = dict()\n",
    "    f1_dic[0] = [-0.875, -0.872, -0.872, -0.871]\n",
    "    f1_dic[1] = [-0.872,-0.872,-0.872,-0.872]\n",
    "    f1_dic[2] = [-0.628,-0.627,-0.627,-0.606]\n",
    "    f1_dic[3] = [-0.751,-0.750,-0.750,-0.738]\n",
    "    f1_dic[4] = [-0.894,-0.893,-0.892,-0.892]\n",
    "    f1_dic[5] = [-0.701,-0.698,-0.698,-0.687]\n",
    "    f1_dic[6] = [-0.903, -0.903,-0.903,-0.903]\n",
    "    f1_dic[7] = [-0.127,-0.127,-0.127,-0.136]\n",
    "    f1_dic[8] = [-0.104,-0.100,-0.073,-0.061]\n",
    "    \n",
    "    \n",
    "    \n",
    "    prec_dic = dict()\n",
    "    prec_dic[0] = [-0.924,-0.28575,-0.37475,-0.37125]\n",
    "    prec_dic[1] = [-0.92075,-0.28225,-0.346,-0.367]\n",
    "    prec_dic[2] = [-0.77,1.80475, 2.14125,2.98225]\n",
    "    prec_dic[3] = [-0.84025,0.47675,0.68625, 1.816]\n",
    "    prec_dic[4] = [-0.93475,-0.5,-0.5,-0.56525]\n",
    "    prec_dic[5] = [-0.81925,2.70425,2.4855,4.1115]\n",
    "    prec_dic[6] = [-0.94075,-0.53125,-0.578,-0.39775]\n",
    "    prec_dic[7] = [-0.13175,-0.0075,-0.2775,-0.0435]\n",
    "    prec_dic[8] = [-0.1065,-0.0415,-0.037,-0.06175]\n",
    "    \n",
    "    recl_dic = dict()\n",
    "    recl_dic[0] = [-0.924,-0.922,-0.92,-0.9075]\n",
    "    recl_dic[1] = [-0.92075,-0.9205,-0.91825,-0.90625]\n",
    "    recl_dic[2] = [-0.77,-0.7575,-0.72625,-0.68675]\n",
    "    recl_dic[3] = [-0.84025,-0.833,-0.80525,-0.76525]\n",
    "    recl_dic[4] = [-0.93475,-0.93375,-0.9325,-0.92475]\n",
    "    recl_dic[5] = [-0.81925,-0.805,-0.733,-0.6435]\n",
    "    recl_dic[6] = [-0.94075,-0.94075,-0.93425,-0.91725]\n",
    "    recl_dic[7] = [-0.13175,-0.215,-0.2695,-0.16225]\n",
    "    recl_dic[8] = [-0.1065,-0.05825,-0.1305,-0.08625]\n",
    "    \n",
    "    \n",
    "    \n",
    "    \n",
    "    \n",
    "    \n",
    "    \n",
    "    \n",
    "    for i in {0}:        # ['f1', 'prec', 'recl']\n",
    "        fig = plt.figure(i + 1, figsize=(6,10))     \n",
    "        ax = fig.add_subplot(111)\n",
    "        met = met_list[i]\n",
    "        for alg_id in range(len(alg_list)):\n",
    "        \n",
    "            ax.scatter(q_range,  list(f1_dic[alg_id]), \n",
    "                                       marker= markers[alg_id], label= alg_list[alg_id]) \n",
    "#\n",
    "            ax.set_xticks(q_range)\n",
    "            ax.set_xticklabels(q_range, fontsize= 6)\n",
    "\n",
    "            ax.set_xlabel('q: percetange classified as fraud')\n",
    "            ax.set_ylabel('%s change' %met)\n",
    "            \n",
    "        ax.legend(loc='upper center', bbox_to_anchor=(0.5, 1.1), shadow=False, ncol=5)\n",
    "\n",
    "\n",
    "        fig.savefig('/Users/pennyliu/cs/datamining/fake-review/res/scatter_total_%s.pdf' %(met_list[i]))\n",
    "        "
   ]
  },
  {
   "cell_type": "code",
   "execution_count": 76,
   "metadata": {},
   "outputs": [
    {
     "data": {
      "image/png": "[encoded data removed]",
      "text/plain": [
       "<Figure size 432x720 with 1 Axes>"
      ]
     },
     "metadata": {
      "needs_background": "light"
     },
     "output_type": "display_data"
    }
   ],
   "source": [
    "plot_scatters()"
   ]
  },
  {
   "cell_type": "code",
   "execution_count": null,
   "metadata": {},
   "outputs": [],
   "source": []
  },
  {
   "cell_type": "code",
   "execution_count": null,
   "metadata": {},
   "outputs": [],
   "source": []
  }
 ],
 "metadata": {
  "kernelspec": {
   "display_name": "Python 3",
   "language": "python",
   "name": "python3"
  },
  "language_info": {
   "codemirror_mode": {
    "name": "ipython",
    "version": 3
   },
   "file_extension": ".py",
   "mimetype": "text/x-python",
   "name": "python",
   "nbconvert_exporter": "python",
   "pygments_lexer": "ipython3",
   "version": "3.7.1"
  }
 },
 "nbformat": 4,
 "nbformat_minor": 2
}
